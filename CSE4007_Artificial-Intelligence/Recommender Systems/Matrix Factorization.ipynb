{
 "cells": [
  {
   "cell_type": "markdown",
   "id": "eb98bb09",
   "metadata": {},
   "source": [
    "# Implementing MF(Matrix Factorization) with PyTorch"
   ]
  },
  {
   "cell_type": "code",
   "execution_count": 3,
   "id": "7abed9a2",
   "metadata": {},
   "outputs": [],
   "source": [
    "import torch\n",
    "import pandas as pd\n",
    "import torch.nn.functional as F\n",
    "import matplotlib.pyplot as plt\n",
    "from torch import nn\n",
    "from torch.utils.data import Dataset, DataLoader"
   ]
  },
  {
   "cell_type": "markdown",
   "id": "182f818c",
   "metadata": {},
   "source": [
    "## Load MovieLens dataset\n",
    "\n",
    "https://grouplens.org/datasets/movielens/"
   ]
  },
  {
   "cell_type": "code",
   "execution_count": 6,
   "id": "879d8990",
   "metadata": {},
   "outputs": [],
   "source": [
    "class MovieLensDataset(Dataset):\n",
    "    def __init__(self, datapath):\n",
    "        self.data_pd = pd.read_csv(datapath, sep=\"\\t\", names=['user', 'movie', 'rating', 'timestamp'])\n",
    "        self.items = torch.LongTensor(self.data_pd['movie'])\n",
    "        self.users = torch.LongTensor(self.data_pd['user'])\n",
    "        self.ratings = torch.FloatTensor(self.data_pd['rating'])\n",
    "        \n",
    "    def __len__(self):\n",
    "        return len(self.ratings)\n",
    "    def __getitem__(self, idx):\n",
    "        return self.users[idx], self.items[idx], self.ratings[idx]\n",
    "    def get_datasize(self):\n",
    "        return self.users.max()+1, self.items.max()+1, len(self.ratings)\n",
    "    \n",
    "train_data = MovieLensDataset(\"./datasets/ml-100k/ua.base\")\n",
    "test_data = MovieLensDataset(\"./datasets/ml-100k/ua.test\")\n",
    "\n",
    "batch_size = 128\n",
    "train_loader = DataLoader(train_data, batch_size = batch_size, shuffle = True)\n",
    "test_loader = DataLoader(test_data, batch_size = batch_size, shuffle = False)"
   ]
  },
  {
   "cell_type": "markdown",
   "id": "279c20f0",
   "metadata": {},
   "source": [
    "## Initialization"
   ]
  },
  {
   "cell_type": "code",
   "execution_count": 7,
   "id": "f08553c9",
   "metadata": {},
   "outputs": [],
   "source": [
    "n_users, n_items, n_ratings = train_data.get_datasize()\n",
    "_, _, n_ratings_test = test_data.get_datasize()"
   ]
  },
  {
   "cell_type": "code",
   "execution_count": 8,
   "id": "bfb7c6d3",
   "metadata": {},
   "outputs": [],
   "source": [
    "class MF(nn.Module):\n",
    "    def __init__(self, num_users, num_items, rank = 10):\n",
    "        super().__init__()\n",
    "        self.U = torch.nn.Parameter(torch.randn(num_users, rank))\n",
    "        self.V = torch.nn.Parameter(torch.randn(num_items, rank))\n",
    "        \n",
    "    def forward(self, users, items):\n",
    "        ratings = torch.sum(self.U[users]*self.V[items], dim = -1)\n",
    "        return ratings"
   ]
  },
  {
   "cell_type": "code",
   "execution_count": 9,
   "id": "f2f73a65",
   "metadata": {},
   "outputs": [],
   "source": [
    "mf_model = MF(n_users, n_items, rank = 16)\n",
    "optimizer = torch.optim.Adam(mf_model.parameters(), lr = 0.01)\n",
    "criterion = nn.MSELoss()"
   ]
  },
  {
   "cell_type": "markdown",
   "id": "32868120",
   "metadata": {},
   "source": [
    "## Training"
   ]
  },
  {
   "cell_type": "code",
   "execution_count": 11,
   "id": "544e475c",
   "metadata": {},
   "outputs": [
    {
     "name": "stdout",
     "output_type": "stream",
     "text": [
      "Epoch: 0\n",
      "train cost: 6.501411\n",
      "test cost: 5.556784\n",
      "Epoch: 1\n",
      "train cost: 1.603567\n",
      "test cost: 2.998580\n",
      "Epoch: 2\n",
      "train cost: 1.052737\n",
      "test cost: 2.336104\n",
      "Epoch: 3\n",
      "train cost: 0.896339\n",
      "test cost: 2.051907\n",
      "Epoch: 4\n",
      "train cost: 0.833382\n",
      "test cost: 1.940572\n",
      "Epoch: 5\n",
      "train cost: 0.801024\n",
      "test cost: 1.901787\n",
      "Epoch: 6\n",
      "train cost: 0.778794\n",
      "test cost: 1.853296\n",
      "Epoch: 7\n",
      "train cost: 0.756702\n",
      "test cost: 1.853393\n",
      "Epoch: 8\n",
      "train cost: 0.736542\n",
      "test cost: 1.815162\n",
      "Epoch: 9\n",
      "train cost: 0.716472\n",
      "test cost: 1.778731\n",
      "Epoch: 10\n",
      "train cost: 0.696008\n",
      "test cost: 1.774883\n",
      "Epoch: 11\n",
      "train cost: 0.679025\n",
      "test cost: 1.755267\n",
      "Epoch: 12\n",
      "train cost: 0.664997\n",
      "test cost: 1.761176\n",
      "Epoch: 13\n",
      "train cost: 0.655007\n",
      "test cost: 1.758764\n",
      "Epoch: 14\n",
      "train cost: 0.641781\n",
      "test cost: 1.764417\n",
      "Epoch: 15\n",
      "train cost: 0.630595\n",
      "test cost: 1.774766\n",
      "Epoch: 16\n",
      "train cost: 0.627464\n",
      "test cost: 1.760248\n",
      "Epoch: 17\n",
      "train cost: 0.617315\n",
      "test cost: 1.744669\n",
      "Epoch: 18\n",
      "train cost: 0.610447\n",
      "test cost: 1.758911\n",
      "Epoch: 19\n",
      "train cost: 0.606934\n",
      "test cost: 1.736096\n"
     ]
    }
   ],
   "source": [
    "for epoch in range(20):\n",
    "    cost = 0\n",
    "    for users, items, ratings in train_loader:\n",
    "        optimizer.zero_grad()\n",
    "        ratings_pred = mf_model(users, items)\n",
    "        loss = criterion(ratings_pred, ratings)\n",
    "        loss.backward()\n",
    "        optimizer.step()\n",
    "        cost += loss.item() * len(ratings)\n",
    "        \n",
    "    cost /= n_ratings\n",
    "    \n",
    "    print(f\"Epoch: {epoch}\")\n",
    "    print(\"train cost: {:.6f}\".format(cost))\n",
    "    \n",
    "    cost_test = 0\n",
    "    for users, items, ratings in test_loader:\n",
    "        ratings_pred = mf_model(users, items)\n",
    "        loss = criterion(ratings_pred, ratings)\n",
    "        cost_test += loss.item() * len(ratings)\n",
    "        \n",
    "    cost_test /= n_ratings_test\n",
    "    print(\"test cost: {:6f}\".format(cost_test))"
   ]
  }
 ],
 "metadata": {
  "kernelspec": {
   "display_name": "Python 3 (ipykernel)",
   "language": "python",
   "name": "python3"
  },
  "language_info": {
   "codemirror_mode": {
    "name": "ipython",
    "version": 3
   },
   "file_extension": ".py",
   "mimetype": "text/x-python",
   "name": "python",
   "nbconvert_exporter": "python",
   "pygments_lexer": "ipython3",
   "version": "3.8.13"
  }
 },
 "nbformat": 4,
 "nbformat_minor": 5
}
