{
 "cells": [
  {
   "cell_type": "code",
   "execution_count": 1,
   "id": "6f2572ca",
   "metadata": {},
   "outputs": [],
   "source": [
    "import torch\n",
    "import numpy as np"
   ]
  },
  {
   "cell_type": "markdown",
   "id": "be49a4a3",
   "metadata": {},
   "source": [
    "# torch.Tensor"
   ]
  },
  {
   "cell_type": "markdown",
   "id": "d1bb6ac0",
   "metadata": {},
   "source": [
    "## Initialize with Python lists"
   ]
  },
  {
   "cell_type": "code",
   "execution_count": 6,
   "id": "809bc1fa",
   "metadata": {},
   "outputs": [
    {
     "name": "stdout",
     "output_type": "stream",
     "text": [
      "<class 'numpy.ndarray'>\n",
      "[[1 3]\n",
      " [2 0]]\n",
      "<class 'torch.Tensor'>\n",
      "tensor([[1., 3.],\n",
      "        [2., 0.]])\n"
     ]
    }
   ],
   "source": [
    "arr = [[1, 3], [2, 0]]\n",
    "\n",
    "# Numpy\n",
    "arr_n = np.array(arr)\n",
    "print(type(arr_n))\n",
    "print(arr_n)\n",
    "\n",
    "# PyTorch\n",
    "arr_t = torch.Tensor(arr)\n",
    "print(type(arr_t))\n",
    "print(arr_t)"
   ]
  },
  {
   "cell_type": "markdown",
   "id": "493397d4",
   "metadata": {},
   "source": [
    "## Initialization: ones & zeros"
   ]
  },
  {
   "cell_type": "code",
   "execution_count": 4,
   "id": "7536e4df",
   "metadata": {},
   "outputs": [
    {
     "name": "stdout",
     "output_type": "stream",
     "text": [
      "[[1. 1. 1.]\n",
      " [1. 1. 1.]]\n",
      "[[0. 0. 0.]\n",
      " [0. 0. 0.]]\n",
      "tensor([[1., 1., 1.],\n",
      "        [1., 1., 1.]])\n",
      "tensor([[0., 0., 0.],\n",
      "        [0., 0., 0.]])\n"
     ]
    }
   ],
   "source": [
    "# Numpy\n",
    "print(np.ones((2, 3)))\n",
    "print(np.zeros((2, 3)))\n",
    "\n",
    "# PyTorch\n",
    "print(torch.ones(2, 3))\n",
    "print(torch.zeros((2, 3)))"
   ]
  },
  {
   "cell_type": "markdown",
   "id": "bd2e5c02",
   "metadata": {},
   "source": [
    "## Initialization: ones_like & zeros_like\n",
    "Return an array of ones/zeros with the same shape and type as a given array."
   ]
  },
  {
   "cell_type": "code",
   "execution_count": 7,
   "id": "a3df1529",
   "metadata": {},
   "outputs": [
    {
     "name": "stdout",
     "output_type": "stream",
     "text": [
      "[[1 1]\n",
      " [1 1]]\n",
      "[[0 0]\n",
      " [0 0]]\n",
      "tensor([[1., 1.],\n",
      "        [1., 1.]])\n",
      "tensor([[1., 1.],\n",
      "        [1., 1.]])\n"
     ]
    }
   ],
   "source": [
    "# Numpy\n",
    "print(np.ones_like(arr_n))\n",
    "print(np.zeros_like(arr_n))\n",
    "\n",
    "# PyTorch\n",
    "print(torch.ones_like(arr_t))\n",
    "print(torch.ones_like(arr_t))"
   ]
  },
  {
   "cell_type": "markdown",
   "id": "73c2f06b",
   "metadata": {},
   "source": [
    "## Two ways of specifying data type\n",
    "type : https://pytorch.org/docs/stable/tensors.html"
   ]
  },
  {
   "cell_type": "code",
   "execution_count": 8,
   "id": "c6193bc8",
   "metadata": {},
   "outputs": [
    {
     "name": "stdout",
     "output_type": "stream",
     "text": [
      "tensor([[1, 1, 1],\n",
      "        [1, 1, 1]], dtype=torch.int32)\n",
      "tensor([[1., 1., 1.],\n",
      "        [1., 1., 1.]])\n"
     ]
    }
   ],
   "source": [
    "# 1. Use Keyword argument dtype\n",
    "print(torch.ones((2, 3), dtype = torch.int))\n",
    "print(torch.ones((2, 3), dtype = torch.float))"
   ]
  },
  {
   "cell_type": "code",
   "execution_count": 9,
   "id": "c089cb95",
   "metadata": {},
   "outputs": [
    {
     "name": "stdout",
     "output_type": "stream",
     "text": [
      "tensor([1., 2.])\n",
      "torch.float32\n"
     ]
    }
   ],
   "source": [
    "# 2. Use typed tensors\n",
    "ft = torch.FloatTensor([1, 2])\n",
    "print(ft)\n",
    "print(ft.dtype)"
   ]
  },
  {
   "cell_type": "markdown",
   "id": "b67fabcd",
   "metadata": {},
   "source": [
    "# Tensor operations"
   ]
  },
  {
   "cell_type": "markdown",
   "id": "f4ee95b7",
   "metadata": {},
   "source": [
    "## Accessing elements"
   ]
  },
  {
   "cell_type": "code",
   "execution_count": 12,
   "id": "9a251ba7",
   "metadata": {},
   "outputs": [
    {
     "name": "stdout",
     "output_type": "stream",
     "text": [
      "tensor(2.)\n",
      "2.0\n"
     ]
    }
   ],
   "source": [
    "arr_t = torch.Tensor([[1, 2], [2, 3]])\n",
    "print(arr_t[0, 1]) # Similar to NumPy. But, it always returns Tensor\n",
    "print(arr_t[0, 1].item()) # Get a Python number"
   ]
  },
  {
   "cell_type": "markdown",
   "id": "050f540c",
   "metadata": {},
   "source": [
    "## Updating elements"
   ]
  },
  {
   "cell_type": "code",
   "execution_count": 13,
   "id": "89994a62",
   "metadata": {},
   "outputs": [
    {
     "name": "stdout",
     "output_type": "stream",
     "text": [
      "tensor([[1., 0.],\n",
      "        [2., 3.]])\n"
     ]
    }
   ],
   "source": [
    "arr_t[0, 1] = 0\n",
    "print(arr_t)"
   ]
  },
  {
   "cell_type": "markdown",
   "id": "937a59b9",
   "metadata": {},
   "source": [
    "## Slicing\n",
    "\n",
    "[strat: end]\n",
    "- Start (inclusive), end (exclusive)\n",
    "- Default values (start: 0, end: length)"
   ]
  },
  {
   "cell_type": "code",
   "execution_count": 14,
   "id": "1a2a8d9c",
   "metadata": {},
   "outputs": [
    {
     "name": "stdout",
     "output_type": "stream",
     "text": [
      "tensor([[1., 2., 3., 4.],\n",
      "        [2., 3., 4., 5.],\n",
      "        [5., 6., 7., 8.]])\n"
     ]
    }
   ],
   "source": [
    "t = torch.Tensor([[1, 2, 3, 4], [2, 3, 4, 5], [5, 6, 7, 8]])\n",
    "print(t)"
   ]
  },
  {
   "cell_type": "code",
   "execution_count": 15,
   "id": "81b90699",
   "metadata": {},
   "outputs": [
    {
     "name": "stdout",
     "output_type": "stream",
     "text": [
      "tensor([[1., 2., 3., 4.],\n",
      "        [2., 3., 4., 5.]])\n",
      "tensor([[3., 4.],\n",
      "        [6., 7.]])\n",
      "tensor([[2., 3., 4.],\n",
      "        [3., 4., 5.],\n",
      "        [6., 7., 8.]])\n",
      "tensor([[1., 2., 3., 4.],\n",
      "        [2., 0., 0., 5.],\n",
      "        [5., 0., 0., 8.]])\n"
     ]
    }
   ],
   "source": [
    "print(t[:2])\n",
    "print(t[1: , 1:3])\n",
    "print(t[:, 1:])\n",
    "\n",
    "t[1:, 1:3] = 0\n",
    "print(t)"
   ]
  },
  {
   "cell_type": "markdown",
   "id": "4cf309bb",
   "metadata": {},
   "source": [
    "## Negative slicing\n",
    "- Use minus operator to refer to an index from the end\n",
    "|Index|0|1|2|...|N-2|N-1|\n",
    "|-----|-|-|-|---|---|---|\n",
    "|Negative index|N-1|N-2|N-3|...|-2|-1|"
   ]
  },
  {
   "cell_type": "code",
   "execution_count": 16,
   "id": "8e3d75fb",
   "metadata": {},
   "outputs": [
    {
     "name": "stdout",
     "output_type": "stream",
     "text": [
      "tensor([[1., 2., 3.],\n",
      "        [2., 0., 0.],\n",
      "        [5., 0., 0.]])\n",
      "tensor([[2., 3.],\n",
      "        [0., 0.],\n",
      "        [0., 0.]])\n"
     ]
    }
   ],
   "source": [
    "print(t[:, :-1])\n",
    "print(t[:, -3:-1])"
   ]
  },
  {
   "cell_type": "markdown",
   "id": "b840fa3a",
   "metadata": {},
   "source": [
    "## Shape & Transpose (matrix)"
   ]
  },
  {
   "cell_type": "code",
   "execution_count": 19,
   "id": "d302a0d9",
   "metadata": {},
   "outputs": [
    {
     "name": "stdout",
     "output_type": "stream",
     "text": [
      "tensor([[1., 2., 3.],\n",
      "        [4., 5., 6.]])\n",
      "tensor([[1., 4.],\n",
      "        [2., 5.],\n",
      "        [3., 6.]])\n"
     ]
    }
   ],
   "source": [
    "X = torch.Tensor([[1, 2, 3], [4, 5, 6]])\n",
    "print(X)\n",
    "print(X.T)"
   ]
  },
  {
   "cell_type": "code",
   "execution_count": 20,
   "id": "be46f5b4",
   "metadata": {},
   "outputs": [
    {
     "name": "stdout",
     "output_type": "stream",
     "text": [
      "torch.Size([2, 3])\n",
      "torch.Size([3, 2])\n"
     ]
    }
   ],
   "source": [
    "print(X.shape)\n",
    "print(X.T.shape)"
   ]
  },
  {
   "cell_type": "markdown",
   "id": "bc3d26dd",
   "metadata": {},
   "source": [
    "## Sum\n",
    "- `torch.sum(X)` = `X.sum()`\n",
    "\n",
    "* `torch.sum(input, dim, keepdim = False, *, dtype = None)` -> Tensor\n",
    "    - Parametes\n",
    "        + **input** (Tensor)\n",
    "        + **dim** (int or tuple, optional) : the dimensions to reduce\n",
    "    - Keyword arguments\n",
    "        + **dtype** (torch.dtype, optional) : desired datatype (default: None)\n",
    "        + **keepdim** (bool) : wheater the output tensor has dim retained or not\n",
    "        eg) 2\\*3 dimension --sum--> (True: 1\\*3, False: 1)"
   ]
  },
  {
   "cell_type": "code",
   "execution_count": 25,
   "id": "44869b86",
   "metadata": {},
   "outputs": [
    {
     "name": "stdout",
     "output_type": "stream",
     "text": [
      "tensor([[1., 2., 3.],\n",
      "        [4., 5., 6.]])\n",
      "tensor(21.)\n",
      "tensor(21.)\n",
      "tensor([5., 7., 9.])\n",
      "tensor([[5., 7., 9.]])\n",
      "tensor([ 6., 15.])\n",
      "tensor([[ 6.],\n",
      "        [15.]])\n"
     ]
    }
   ],
   "source": [
    "print(X)\n",
    "\n",
    "print(X.sum())\n",
    "print(torch.sum(X))\n",
    "\n",
    "print(X.sum(0))\n",
    "print(X.sum(0, keepdim = True))\n",
    "\n",
    "print(X.sum(1))\n",
    "print(X.sum(1, keepdim = True))"
   ]
  },
  {
   "cell_type": "markdown",
   "id": "15ed33b3",
   "metadata": {},
   "source": [
    "## Mean\n",
    "- `torch.mean(input, dim, keepdim = False, *)` -> Tensor\n",
    "    - Parametes\n",
    "        + **input** (Tensor)\n",
    "        + **dim** (int or tuple, optional) : the dimensions to reduce"
   ]
  },
  {
   "cell_type": "code",
   "execution_count": 26,
   "id": "f27751d0",
   "metadata": {},
   "outputs": [
    {
     "name": "stdout",
     "output_type": "stream",
     "text": [
      "tensor([[1., 2., 3.],\n",
      "        [4., 5., 6.]])\n",
      "tensor(3.5000)\n",
      "tensor([2.5000, 3.5000, 4.5000])\n",
      "tensor([2., 5.])\n"
     ]
    }
   ],
   "source": [
    "print(X)\n",
    "\n",
    "print(X.mean())\n",
    "print(X.mean(0))\n",
    "print(X.mean(1))"
   ]
  },
  {
   "cell_type": "markdown",
   "id": "f29e3c48",
   "metadata": {},
   "source": [
    "## Max\n",
    "- `torch.max(input, dim, keepdim = False, *)` -> Tensor\n",
    "    - Parametes\n",
    "        + **input** (Tensor)\n",
    "        + **dim** (int or tuple, optional) : the dimensions to reduce\n",
    "    - Output\n",
    "        + **out** (Tensor, if dim is specified) : the input tensor(max, max_indices)"
   ]
  },
  {
   "cell_type": "code",
   "execution_count": 29,
   "id": "cb6eaf5b",
   "metadata": {},
   "outputs": [
    {
     "name": "stdout",
     "output_type": "stream",
     "text": [
      "tensor([[1., 7., 3.],\n",
      "        [4., 5., 6.]])\n",
      "tensor(7.)\n",
      "torch.return_types.max(\n",
      "values=tensor([4., 7., 6.]),\n",
      "indices=tensor([1, 0, 1]))\n",
      "torch.return_types.max(\n",
      "values=tensor([7., 6.]),\n",
      "indices=tensor([1, 2]))\n"
     ]
    }
   ],
   "source": [
    "X[0, 1] = 7\n",
    "print(X)\n",
    "\n",
    "print(X.max())\n",
    "print(X.max(0))\n",
    "print(X.max(1))"
   ]
  },
  {
   "cell_type": "markdown",
   "id": "0a4ea512",
   "metadata": {},
   "source": [
    "## Binary Operators\n",
    "- Addition $Z=X+Y$\n",
    "- Element-wise multiplication $z_{ij} = x_{ij}*y_{ij}$\n",
    "- Matrix multiplication"
   ]
  },
  {
   "cell_type": "code",
   "execution_count": 30,
   "id": "4d3a4885",
   "metadata": {},
   "outputs": [
    {
     "name": "stdout",
     "output_type": "stream",
     "text": [
      "tensor([[2., 2., 5.],\n",
      "        [5., 5., 7.]])\n",
      "tensor([[1., 0., 6.],\n",
      "        [4., 0., 6.]])\n",
      "tensor([[ 5.,  0.,  6.],\n",
      "        [ 7.,  0.,  9.],\n",
      "        [ 9.,  0., 12.]])\n",
      "tensor([[ 7.,  4.],\n",
      "        [16., 10.]])\n"
     ]
    }
   ],
   "source": [
    "X = torch.Tensor([[1, 2, 3], [4, 5, 6]])\n",
    "Y = torch.Tensor([[1, 0, 2], [1, 0, 1]])\n",
    "\n",
    "print(X+Y)\n",
    "print(X*Y)\n",
    "print(torch.matmul(X.T, Y))\n",
    "print(torch.matmul(X, Y.T))"
   ]
  },
  {
   "cell_type": "markdown",
   "id": "432f4f8b",
   "metadata": {},
   "source": [
    "## Inner product"
   ]
  },
  {
   "cell_type": "code",
   "execution_count": 32,
   "id": "3ca09e4b",
   "metadata": {},
   "outputs": [
    {
     "name": "stdout",
     "output_type": "stream",
     "text": [
      "tensor([[ 7.,  4.],\n",
      "        [16., 10.]])\n"
     ]
    }
   ],
   "source": [
    "print(torch.inner(X, Y))"
   ]
  },
  {
   "cell_type": "markdown",
   "id": "4fe5ee7c",
   "metadata": {},
   "source": [
    "## View\n",
    "Returns a tensor with te same data ans number of elements as self but with the specified shape\n",
    "\n",
    "* `X.view(*shape)`\n",
    "    - **shape** (int or tuple): the desired shape"
   ]
  },
  {
   "cell_type": "code",
   "execution_count": 42,
   "id": "b013cea3",
   "metadata": {},
   "outputs": [
    {
     "name": "stdout",
     "output_type": "stream",
     "text": [
      "torch.Size([2, 3, 4])\n",
      "tensor([[[1., 2., 3., 4.],\n",
      "         [2., 3., 4., 5.],\n",
      "         [5., 6., 7., 8.]],\n",
      "\n",
      "        [[1., 2., 3., 4.],\n",
      "         [2., 3., 4., 5.],\n",
      "         [5., 6., 7., 8.]]])\n",
      "torch.Size([3, 2, 4])\n",
      "tensor([[[1., 2., 3., 4.],\n",
      "         [2., 3., 4., 5.]],\n",
      "\n",
      "        [[5., 6., 7., 8.],\n",
      "         [1., 2., 3., 4.]],\n",
      "\n",
      "        [[2., 3., 4., 5.],\n",
      "         [5., 6., 7., 8.]]])\n",
      "torch.Size([6, 4])\n",
      "tensor([[1., 2., 3., 4.],\n",
      "        [2., 3., 4., 5.],\n",
      "        [5., 6., 7., 8.],\n",
      "        [1., 2., 3., 4.],\n",
      "        [2., 3., 4., 5.],\n",
      "        [5., 6., 7., 8.]])\n"
     ]
    }
   ],
   "source": [
    "X = torch.Tensor([[[1, 2, 3, 4], [2, 3, 4, 5], [5, 6, 7, 8]], [[1, 2, 3, 4], [2, 3, 4, 5], [5, 6, 7, 8]]])\n",
    "print(X.shape)\n",
    "print(X)\n",
    "\n",
    "Y = X.view(3, 2, 4)\n",
    "print(Y.shape)\n",
    "print(Y)\n",
    "\n",
    "Y = X.view(6, 4)\n",
    "print(Y.shape)\n",
    "print(Y)"
   ]
  },
  {
   "cell_type": "markdown",
   "id": "cb9870bb",
   "metadata": {},
   "source": [
    "## Squeeze / Unsqueeze"
   ]
  },
  {
   "cell_type": "code",
   "execution_count": 49,
   "id": "23f04b48",
   "metadata": {},
   "outputs": [
    {
     "name": "stdout",
     "output_type": "stream",
     "text": [
      "tensor([[[1., 2., 3., 4.],\n",
      "         [2., 3., 4., 5.],\n",
      "         [5., 6., 7., 8.]]]) torch.Size([1, 3, 4])\n",
      "tensor([[1., 2., 3., 4.],\n",
      "        [2., 3., 4., 5.],\n",
      "        [5., 6., 7., 8.]]) torch.Size([3, 4])\n",
      "tensor([[[1., 2., 3., 4.],\n",
      "         [2., 3., 4., 5.],\n",
      "         [5., 6., 7., 8.]]]) torch.Size([1, 3, 4])\n"
     ]
    }
   ],
   "source": [
    "X = torch.Tensor([[[1, 2, 3, 4], [2, 3, 4, 5], [5, 6, 7, 8]]])\n",
    "print(X, X.shape)\n",
    "Y = X.squeeze(dim = 0)\n",
    "print(Y, Y.shape)\n",
    "Y = Y.unsqueeze(dim = 0)\n",
    "print(Y, Y.shape)"
   ]
  },
  {
   "cell_type": "markdown",
   "id": "b3e8e36d",
   "metadata": {},
   "source": [
    "## Broadcasting\n",
    "automatically expanded to be of equal sizes"
   ]
  },
  {
   "cell_type": "code",
   "execution_count": 50,
   "id": "896084df",
   "metadata": {},
   "outputs": [
    {
     "name": "stdout",
     "output_type": "stream",
     "text": [
      "tensor([[1., 2., 3.],\n",
      "        [4., 5., 6.]])\n",
      "tensor([1., 2.])\n"
     ]
    }
   ],
   "source": [
    "X = torch.FloatTensor([[1, 2, 3], [4, 5, 6]])\n",
    "print(X)\n",
    "\n",
    "Y = torch.FloatTensor([1, 2])\n",
    "print(Y)"
   ]
  },
  {
   "cell_type": "code",
   "execution_count": 59,
   "id": "fd9d267c",
   "metadata": {},
   "outputs": [
    {
     "name": "stdout",
     "output_type": "stream",
     "text": [
      "tensor([[2., 3., 4.],\n",
      "        [5., 6., 7.]])\n",
      "tensor([[1., 4.],\n",
      "        [2., 5.],\n",
      "        [3., 6.]])\n",
      "tensor([[2., 6.],\n",
      "        [3., 7.],\n",
      "        [4., 8.]])\n"
     ]
    }
   ],
   "source": [
    "print(X+1)\n",
    "print(X.T)\n",
    "print(X.T + Y) # Y.T + X -> (X)"
   ]
  },
  {
   "cell_type": "markdown",
   "id": "07146774",
   "metadata": {},
   "source": [
    "- **broadcastable** : starting at the trailing dimension, the dimension sizes must either be\n",
    "    1. one of them is 1\n",
    "    2. one of them does not exist"
   ]
  },
  {
   "cell_type": "code",
   "execution_count": 60,
   "id": "dc661a00",
   "metadata": {},
   "outputs": [
    {
     "name": "stdout",
     "output_type": "stream",
     "text": [
      "tensor([[[1., 2., 3.],\n",
      "         [4., 5., 6.],\n",
      "         [7., 8., 9.]],\n",
      "\n",
      "        [[1., 2., 3.],\n",
      "         [4., 5., 6.],\n",
      "         [7., 8., 9.]]]) torch.Size([2, 3, 3])\n"
     ]
    }
   ],
   "source": [
    "X = torch.FloatTensor([[[1, 2, 3], [4, 5, 6], [7, 8, 9]], [[1, 2, 3], [4, 5, 6], [7, 8, 9]]])\n",
    "print(X, X.shape)"
   ]
  },
  {
   "cell_type": "code",
   "execution_count": 62,
   "id": "7bd75d8b",
   "metadata": {},
   "outputs": [
    {
     "name": "stdout",
     "output_type": "stream",
     "text": [
      "tensor([[[ 2.,  3.,  4.],\n",
      "         [ 5.,  6.,  7.],\n",
      "         [ 8.,  9., 10.]],\n",
      "\n",
      "        [[ 2.,  3.,  4.],\n",
      "         [ 5.,  6.,  7.],\n",
      "         [ 8.,  9., 10.]]])\n",
      "tensor([[[ 2.,  3.,  4.],\n",
      "         [ 5.,  6.,  7.],\n",
      "         [ 8.,  9., 10.]],\n",
      "\n",
      "        [[ 2.,  3.,  4.],\n",
      "         [ 5.,  6.,  7.],\n",
      "         [ 8.,  9., 10.]]])\n",
      "tensor([[[ 2.,  3.,  4.],\n",
      "         [ 5.,  6.,  7.],\n",
      "         [ 8.,  9., 10.]],\n",
      "\n",
      "        [[ 2.,  3.,  4.],\n",
      "         [ 5.,  6.,  7.],\n",
      "         [ 8.,  9., 10.]]])\n"
     ]
    }
   ],
   "source": [
    "Y = torch.ones((1, 1, 3))\n",
    "print(Y + X)\n",
    "\n",
    "Y = torch.ones((1, 3))\n",
    "print(Y + X)\n",
    "# (0, 1, 3) - (2, 3, 3) :\n",
    "# (1),(2),(3). (3) : ok, (2) : ok, (1) : not exist -> ok.\n",
    "\n",
    "Y = torch.ones(3)\n",
    "print(Y + X)\n",
    "# (0, 0, 3) - (2, 3, 3) :\n",
    "# (1),(2),(3). (3) : ok, (2) : not exist, (1) : not exist -> ok."
   ]
  },
  {
   "cell_type": "markdown",
   "id": "98d22daf",
   "metadata": {},
   "source": [
    "## ndarray ↔ tensor"
   ]
  },
  {
   "cell_type": "code",
   "execution_count": 64,
   "id": "5f86ec4d",
   "metadata": {},
   "outputs": [
    {
     "name": "stdout",
     "output_type": "stream",
     "text": [
      "<class 'numpy.ndarray'>\n",
      "<class 'torch.Tensor'>\n"
     ]
    }
   ],
   "source": [
    "a = X.numpy()\n",
    "print(type(a))\n",
    "t = torch.from_numpy(a)\n",
    "print(type(t))"
   ]
  }
 ],
 "metadata": {
  "kernelspec": {
   "display_name": "Python 3 (ipykernel)",
   "language": "python",
   "name": "python3"
  },
  "language_info": {
   "codemirror_mode": {
    "name": "ipython",
    "version": 3
   },
   "file_extension": ".py",
   "mimetype": "text/x-python",
   "name": "python",
   "nbconvert_exporter": "python",
   "pygments_lexer": "ipython3",
   "version": "3.8.13"
  }
 },
 "nbformat": 4,
 "nbformat_minor": 5
}
