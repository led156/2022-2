{
 "cells": [
  {
   "cell_type": "code",
   "execution_count": 1,
   "id": "6f2572ca",
   "metadata": {},
   "outputs": [],
   "source": [
    "import torch\n",
    "import numpy as np"
   ]
  },
  {
   "cell_type": "markdown",
   "id": "be49a4a3",
   "metadata": {},
   "source": [
    "# torch.Tensor"
   ]
  },
  {
   "cell_type": "markdown",
   "id": "d1bb6ac0",
   "metadata": {},
   "source": [
    "## Initialize with Python lists"
   ]
  },
  {
   "cell_type": "code",
   "execution_count": 6,
   "id": "809bc1fa",
   "metadata": {},
   "outputs": [
    {
     "name": "stdout",
     "output_type": "stream",
     "text": [
      "<class 'numpy.ndarray'>\n",
      "[[1 3]\n",
      " [2 0]]\n",
      "<class 'torch.Tensor'>\n",
      "tensor([[1., 3.],\n",
      "        [2., 0.]])\n"
     ]
    }
   ],
   "source": [
    "arr = [[1, 3], [2, 0]]\n",
    "\n",
    "# Numpy\n",
    "arr_n = np.array(arr)\n",
    "print(type(arr_n))\n",
    "print(arr_n)\n",
    "\n",
    "# PyTorch\n",
    "arr_t = torch.Tensor(arr)\n",
    "print(type(arr_t))\n",
    "print(arr_t)"
   ]
  },
  {
   "cell_type": "markdown",
   "id": "493397d4",
   "metadata": {},
   "source": [
    "## Initialization: ones & zeros"
   ]
  },
  {
   "cell_type": "code",
   "execution_count": 4,
   "id": "7536e4df",
   "metadata": {},
   "outputs": [
    {
     "name": "stdout",
     "output_type": "stream",
     "text": [
      "[[1. 1. 1.]\n",
      " [1. 1. 1.]]\n",
      "[[0. 0. 0.]\n",
      " [0. 0. 0.]]\n",
      "tensor([[1., 1., 1.],\n",
      "        [1., 1., 1.]])\n",
      "tensor([[0., 0., 0.],\n",
      "        [0., 0., 0.]])\n"
     ]
    }
   ],
   "source": [
    "# Numpy\n",
    "print(np.ones((2, 3)))\n",
    "print(np.zeros((2, 3)))\n",
    "\n",
    "# PyTorch\n",
    "print(torch.ones(2, 3))\n",
    "print(torch.zeros((2, 3)))"
   ]
  },
  {
   "cell_type": "markdown",
   "id": "bd2e5c02",
   "metadata": {},
   "source": [
    "## Initialization: ones_like & zeros_like\n",
    "Return an array of ones/zeros with the same shape and type as a given array."
   ]
  },
  {
   "cell_type": "code",
   "execution_count": 7,
   "id": "a3df1529",
   "metadata": {},
   "outputs": [
    {
     "name": "stdout",
     "output_type": "stream",
     "text": [
      "[[1 1]\n",
      " [1 1]]\n",
      "[[0 0]\n",
      " [0 0]]\n",
      "tensor([[1., 1.],\n",
      "        [1., 1.]])\n",
      "tensor([[1., 1.],\n",
      "        [1., 1.]])\n"
     ]
    }
   ],
   "source": [
    "# Numpy\n",
    "print(np.ones_like(arr_n))\n",
    "print(np.zeros_like(arr_n))\n",
    "\n",
    "# PyTorch\n",
    "print(torch.ones_like(arr_t))\n",
    "print(torch.ones_like(arr_t))"
   ]
  },
  {
   "cell_type": "markdown",
   "id": "73c2f06b",
   "metadata": {},
   "source": [
    "## Two ways of specifying data type\n",
    "type : https://pytorch.org/docs/stable/tensors.html"
   ]
  },
  {
   "cell_type": "code",
   "execution_count": 8,
   "id": "c6193bc8",
   "metadata": {},
   "outputs": [
    {
     "name": "stdout",
     "output_type": "stream",
     "text": [
      "tensor([[1, 1, 1],\n",
      "        [1, 1, 1]], dtype=torch.int32)\n",
      "tensor([[1., 1., 1.],\n",
      "        [1., 1., 1.]])\n"
     ]
    }
   ],
   "source": [
    "# 1. Use Keyword argument dtype\n",
    "print(torch.ones((2, 3), dtype = torch.int))\n",
    "print(torch.ones((2, 3), dtype = torch.float))"
   ]
  },
  {
   "cell_type": "code",
   "execution_count": 9,
   "id": "c089cb95",
   "metadata": {},
   "outputs": [
    {
     "name": "stdout",
     "output_type": "stream",
     "text": [
      "tensor([1., 2.])\n",
      "torch.float32\n"
     ]
    }
   ],
   "source": [
    "# 2. Use typed tensors\n",
    "ft = torch.FloatTensor([1, 2])\n",
    "print(ft)\n",
    "print(ft.dtype)"
   ]
  },
  {
   "cell_type": "markdown",
   "id": "b67fabcd",
   "metadata": {},
   "source": [
    "# Tensor operations"
   ]
  },
  {
   "cell_type": "markdown",
   "id": "f4ee95b7",
   "metadata": {},
   "source": [
    "## Accessing elements"
   ]
  },
  {
   "cell_type": "code",
   "execution_count": 12,
   "id": "9a251ba7",
   "metadata": {},
   "outputs": [
    {
     "name": "stdout",
     "output_type": "stream",
     "text": [
      "tensor(2.)\n",
      "2.0\n"
     ]
    }
   ],
   "source": [
    "arr_t = torch.Tensor([[1, 2], [2, 3]])\n",
    "print(arr_t[0, 1]) # Similar to NumPy. But, it always returns Tensor\n",
    "print(arr_t[0, 1].item()) # Get a Python number"
   ]
  },
  {
   "cell_type": "markdown",
   "id": "050f540c",
   "metadata": {},
   "source": [
    "## Updating elements"
   ]
  },
  {
   "cell_type": "code",
   "execution_count": 13,
   "id": "89994a62",
   "metadata": {},
   "outputs": [
    {
     "name": "stdout",
     "output_type": "stream",
     "text": [
      "tensor([[1., 0.],\n",
      "        [2., 3.]])\n"
     ]
    }
   ],
   "source": [
    "arr_t[0, 1] = 0\n",
    "print(arr_t)"
   ]
  },
  {
   "cell_type": "markdown",
   "id": "937a59b9",
   "metadata": {},
   "source": [
    "## Slicing\n",
    "\n",
    "[strat: end]\n",
    "- Start (inclusive), end (exclusive)\n",
    "- Default values (start: 0, end: length)"
   ]
  },
  {
   "cell_type": "code",
   "execution_count": 14,
   "id": "1a2a8d9c",
   "metadata": {},
   "outputs": [
    {
     "name": "stdout",
     "output_type": "stream",
     "text": [
      "tensor([[1., 2., 3., 4.],\n",
      "        [2., 3., 4., 5.],\n",
      "        [5., 6., 7., 8.]])\n"
     ]
    }
   ],
   "source": [
    "t = torch.Tensor([[1, 2, 3, 4], [2, 3, 4, 5], [5, 6, 7, 8]])\n",
    "print(t)"
   ]
  },
  {
   "cell_type": "code",
   "execution_count": 15,
   "id": "81b90699",
   "metadata": {},
   "outputs": [
    {
     "name": "stdout",
     "output_type": "stream",
     "text": [
      "tensor([[1., 2., 3., 4.],\n",
      "        [2., 3., 4., 5.]])\n",
      "tensor([[3., 4.],\n",
      "        [6., 7.]])\n",
      "tensor([[2., 3., 4.],\n",
      "        [3., 4., 5.],\n",
      "        [6., 7., 8.]])\n",
      "tensor([[1., 2., 3., 4.],\n",
      "        [2., 0., 0., 5.],\n",
      "        [5., 0., 0., 8.]])\n"
     ]
    }
   ],
   "source": [
    "print(t[:2])\n",
    "print(t[1: , 1:3])\n",
    "print(t[:, 1:])\n",
    "\n",
    "t[1:, 1:3] = 0\n",
    "print(t)"
   ]
  },
  {
   "cell_type": "markdown",
   "id": "4cf309bb",
   "metadata": {},
   "source": [
    "## Negative slicing\n",
    "- Use minus operator to refer to an index from the end\n",
    "|Index|0|1|2|...|N-2|N-1|\n",
    "|-----|-|-|-|---|---|---|\n",
    "|Negative index|N-1|N-2|N-3|...|-2|-1|"
   ]
  },
  {
   "cell_type": "code",
   "execution_count": 16,
   "id": "8e3d75fb",
   "metadata": {},
   "outputs": [
    {
     "name": "stdout",
     "output_type": "stream",
     "text": [
      "tensor([[1., 2., 3.],\n",
      "        [2., 0., 0.],\n",
      "        [5., 0., 0.]])\n",
      "tensor([[2., 3.],\n",
      "        [0., 0.],\n",
      "        [0., 0.]])\n"
     ]
    }
   ],
   "source": [
    "print(t[:, :-1])\n",
    "print(t[:, -3:-1])"
   ]
  },
  {
   "cell_type": "markdown",
   "id": "b840fa3a",
   "metadata": {},
   "source": [
    "## Shape & Transpose (matrix)"
   ]
  },
  {
   "cell_type": "code",
   "execution_count": 19,
   "id": "d302a0d9",
   "metadata": {},
   "outputs": [
    {
     "name": "stdout",
     "output_type": "stream",
     "text": [
      "tensor([[1., 2., 3.],\n",
      "        [4., 5., 6.]])\n",
      "tensor([[1., 4.],\n",
      "        [2., 5.],\n",
      "        [3., 6.]])\n"
     ]
    }
   ],
   "source": [
    "X = torch.Tensor([[1, 2, 3], [4, 5, 6]])\n",
    "print(X)\n",
    "print(X.T)"
   ]
  },
  {
   "cell_type": "code",
   "execution_count": 20,
   "id": "be46f5b4",
   "metadata": {},
   "outputs": [
    {
     "name": "stdout",
     "output_type": "stream",
     "text": [
      "torch.Size([2, 3])\n",
      "torch.Size([3, 2])\n"
     ]
    }
   ],
   "source": [
    "print(X.shape)\n",
    "print(X.T.shape)"
   ]
  },
  {
   "cell_type": "markdown",
   "id": "bc3d26dd",
   "metadata": {},
   "source": [
    "## Sum\n",
    "- `torch.sum(X)` = `X.sum()`\n",
    "\n",
    "* `torch.sum(input, dim, keepdim = False, *, dtype = None)` -> Tensor\n",
    "    - Parametes\n",
    "        + **input** (Tensor)\n",
    "        + **dim** (int or tuple, optional) : the dimensions to reduce\n",
    "    - Keyword arguments\n",
    "        + **dtype** (torch.dtype, optional) : desired datatype (default: None)\n",
    "        + **keepdim** (bool) : wheater the output tensor has dim retained or not\n",
    "        eg) 2\\*3 dimension --sum--> (True: 1\\*3, False: 1)"
   ]
  },
  {
   "cell_type": "code",
   "execution_count": 25,
   "id": "44869b86",
   "metadata": {},
   "outputs": [
    {
     "name": "stdout",
     "output_type": "stream",
     "text": [
      "tensor([[1., 2., 3.],\n",
      "        [4., 5., 6.]])\n",
      "tensor(21.)\n",
      "tensor(21.)\n",
      "tensor([5., 7., 9.])\n",
      "tensor([[5., 7., 9.]])\n",
      "tensor([ 6., 15.])\n",
      "tensor([[ 6.],\n",
      "        [15.]])\n"
     ]
    }
   ],
   "source": [
    "print(X)\n",
    "\n",
    "print(X.sum())\n",
    "print(torch.sum(X))\n",
    "\n",
    "print(X.sum(0))\n",
    "print(X.sum(0, keepdim = True))\n",
    "\n",
    "print(X.sum(1))\n",
    "print(X.sum(1, keepdim = True))"
   ]
  },
  {
   "cell_type": "markdown",
   "id": "15ed33b3",
   "metadata": {},
   "source": [
    "## Mean\n",
    "- `torch.mean(input, dim, keepdim = False, *)` -> Tensor\n",
    "    - Parametes\n",
    "        + **input** (Tensor)\n",
    "        + **dim** (int or tuple, optional) : the dimensions to reduce"
   ]
  },
  {
   "cell_type": "code",
   "execution_count": 26,
   "id": "f27751d0",
   "metadata": {},
   "outputs": [
    {
     "name": "stdout",
     "output_type": "stream",
     "text": [
      "tensor([[1., 2., 3.],\n",
      "        [4., 5., 6.]])\n",
      "tensor(3.5000)\n",
      "tensor([2.5000, 3.5000, 4.5000])\n",
      "tensor([2., 5.])\n"
     ]
    }
   ],
   "source": [
    "print(X)\n",
    "\n",
    "print(X.mean())\n",
    "print(X.mean(0))\n",
    "print(X.mean(1))"
   ]
  },
  {
   "cell_type": "markdown",
   "id": "f29e3c48",
   "metadata": {},
   "source": [
    "## Max\n",
    "- `torch.max(input, dim, keepdim = False, *)` -> Tensor\n",
    "    - Parametes\n",
    "        + **input** (Tensor)\n",
    "        + **dim** (int or tuple, optional) : the dimensions to reduce\n",
    "    - Output\n",
    "        + **out** (Tensor, if dim is specified) : the input tensor(max, max_indices)"
   ]
  },
  {
   "cell_type": "code",
   "execution_count": 29,
   "id": "cb6eaf5b",
   "metadata": {},
   "outputs": [
    {
     "name": "stdout",
     "output_type": "stream",
     "text": [
      "tensor([[1., 7., 3.],\n",
      "        [4., 5., 6.]])\n",
      "tensor(7.)\n",
      "torch.return_types.max(\n",
      "values=tensor([4., 7., 6.]),\n",
      "indices=tensor([1, 0, 1]))\n",
      "torch.return_types.max(\n",
      "values=tensor([7., 6.]),\n",
      "indices=tensor([1, 2]))\n"
     ]
    }
   ],
   "source": [
    "X[0, 1] = 7\n",
    "print(X)\n",
    "\n",
    "print(X.max())\n",
    "print(X.max(0))\n",
    "print(X.max(1))"
   ]
  },
  {
   "cell_type": "markdown",
   "id": "0a4ea512",
   "metadata": {},
   "source": [
    "## Binary Operators\n",
    "- Addition $Z=X+Y$\n",
    "- Element-wise multiplication $z_{ij} = x_{ij}*y_{ij}$\n",
    "- Matrix multiplication"
   ]
  },
  {
   "cell_type": "code",
   "execution_count": 30,
   "id": "4d3a4885",
   "metadata": {},
   "outputs": [
    {
     "name": "stdout",
     "output_type": "stream",
     "text": [
      "tensor([[2., 2., 5.],\n",
      "        [5., 5., 7.]])\n",
      "tensor([[1., 0., 6.],\n",
      "        [4., 0., 6.]])\n",
      "tensor([[ 5.,  0.,  6.],\n",
      "        [ 7.,  0.,  9.],\n",
      "        [ 9.,  0., 12.]])\n",
      "tensor([[ 7.,  4.],\n",
      "        [16., 10.]])\n"
     ]
    }
   ],
   "source": [
    "X = torch.Tensor([[1, 2, 3], [4, 5, 6]])\n",
    "Y = torch.Tensor([[1, 0, 2], [1, 0, 1]])\n",
    "\n",
    "print(X+Y)\n",
    "print(X*Y)\n",
    "print(torch.matmul(X.T, Y))\n",
    "print(torch.matmul(X, Y.T))"
   ]
  },
  {
   "cell_type": "markdown",
   "id": "432f4f8b",
   "metadata": {},
   "source": [
    "## Inner product"
   ]
  },
  {
   "cell_type": "code",
   "execution_count": 32,
   "id": "3ca09e4b",
   "metadata": {},
   "outputs": [
    {
     "name": "stdout",
     "output_type": "stream",
     "text": [
      "tensor([[ 7.,  4.],\n",
      "        [16., 10.]])\n"
     ]
    }
   ],
   "source": [
    "print(torch.inner(X, Y))"
   ]
  },
  {
   "cell_type": "markdown",
   "id": "4fe5ee7c",
   "metadata": {},
   "source": [
    "## View\n",
    "Returns a tensor with te same data ans number of elements as self but with the specified shape\n",
    "\n",
    "* `X.view(*shape)`\n",
    "    - **shape** (int or tuple): the desired shape"
   ]
  },
  {
   "cell_type": "code",
   "execution_count": 42,
   "id": "b013cea3",
   "metadata": {},
   "outputs": [
    {
     "name": "stdout",
     "output_type": "stream",
     "text": [
      "torch.Size([2, 3, 4])\n",
      "tensor([[[1., 2., 3., 4.],\n",
      "         [2., 3., 4., 5.],\n",
      "         [5., 6., 7., 8.]],\n",
      "\n",
      "        [[1., 2., 3., 4.],\n",
      "         [2., 3., 4., 5.],\n",
      "         [5., 6., 7., 8.]]])\n",
      "torch.Size([3, 2, 4])\n",
      "tensor([[[1., 2., 3., 4.],\n",
      "         [2., 3., 4., 5.]],\n",
      "\n",
      "        [[5., 6., 7., 8.],\n",
      "         [1., 2., 3., 4.]],\n",
      "\n",
      "        [[2., 3., 4., 5.],\n",
      "         [5., 6., 7., 8.]]])\n",
      "torch.Size([6, 4])\n",
      "tensor([[1., 2., 3., 4.],\n",
      "        [2., 3., 4., 5.],\n",
      "        [5., 6., 7., 8.],\n",
      "        [1., 2., 3., 4.],\n",
      "        [2., 3., 4., 5.],\n",
      "        [5., 6., 7., 8.]])\n"
     ]
    }
   ],
   "source": [
    "X = torch.Tensor([[[1, 2, 3, 4], [2, 3, 4, 5], [5, 6, 7, 8]], [[1, 2, 3, 4], [2, 3, 4, 5], [5, 6, 7, 8]]])\n",
    "print(X.shape)\n",
    "print(X)\n",
    "\n",
    "Y = X.view(3, 2, 4)\n",
    "print(Y.shape)\n",
    "print(Y)\n",
    "\n",
    "Y = X.view(6, 4)\n",
    "print(Y.shape)\n",
    "print(Y)"
   ]
  },
  {
   "cell_type": "markdown",
   "id": "cb9870bb",
   "metadata": {},
   "source": [
    "## Squeeze / Unsqueeze"
   ]
  },
  {
   "cell_type": "code",
   "execution_count": 49,
   "id": "23f04b48",
   "metadata": {},
   "outputs": [
    {
     "name": "stdout",
     "output_type": "stream",
     "text": [
      "tensor([[[1., 2., 3., 4.],\n",
      "         [2., 3., 4., 5.],\n",
      "         [5., 6., 7., 8.]]]) torch.Size([1, 3, 4])\n",
      "tensor([[1., 2., 3., 4.],\n",
      "        [2., 3., 4., 5.],\n",
      "        [5., 6., 7., 8.]]) torch.Size([3, 4])\n",
      "tensor([[[1., 2., 3., 4.],\n",
      "         [2., 3., 4., 5.],\n",
      "         [5., 6., 7., 8.]]]) torch.Size([1, 3, 4])\n"
     ]
    }
   ],
   "source": [
    "X = torch.Tensor([[[1, 2, 3, 4], [2, 3, 4, 5], [5, 6, 7, 8]]])\n",
    "print(X, X.shape)\n",
    "Y = X.squeeze(dim = 0)\n",
    "print(Y, Y.shape)\n",
    "Y = Y.unsqueeze(dim = 0)\n",
    "print(Y, Y.shape)"
   ]
  },
  {
   "cell_type": "markdown",
   "id": "b3e8e36d",
   "metadata": {},
   "source": [
    "## Broadcasting\n",
    "automatically expanded to be of equal sizes"
   ]
  },
  {
   "cell_type": "code",
   "execution_count": 50,
   "id": "896084df",
   "metadata": {},
   "outputs": [
    {
     "name": "stdout",
     "output_type": "stream",
     "text": [
      "tensor([[1., 2., 3.],\n",
      "        [4., 5., 6.]])\n",
      "tensor([1., 2.])\n"
     ]
    }
   ],
   "source": [
    "X = torch.FloatTensor([[1, 2, 3], [4, 5, 6]])\n",
    "print(X)\n",
    "\n",
    "Y = torch.FloatTensor([1, 2])\n",
    "print(Y)"
   ]
  },
  {
   "cell_type": "code",
   "execution_count": 59,
   "id": "fd9d267c",
   "metadata": {},
   "outputs": [
    {
     "name": "stdout",
     "output_type": "stream",
     "text": [
      "tensor([[2., 3., 4.],\n",
      "        [5., 6., 7.]])\n",
      "tensor([[1., 4.],\n",
      "        [2., 5.],\n",
      "        [3., 6.]])\n",
      "tensor([[2., 6.],\n",
      "        [3., 7.],\n",
      "        [4., 8.]])\n"
     ]
    }
   ],
   "source": [
    "print(X+1)\n",
    "print(X.T)\n",
    "print(X.T + Y) # Y.T + X -> (X)"
   ]
  },
  {
   "cell_type": "markdown",
   "id": "07146774",
   "metadata": {},
   "source": [
    "- **broadcastable** : starting at the trailing dimension, the dimension sizes must either be\n",
    "    1. one of them is 1\n",
    "    2. one of them does not exist"
   ]
  },
  {
   "cell_type": "code",
   "execution_count": 60,
   "id": "dc661a00",
   "metadata": {},
   "outputs": [
    {
     "name": "stdout",
     "output_type": "stream",
     "text": [
      "tensor([[[1., 2., 3.],\n",
      "         [4., 5., 6.],\n",
      "         [7., 8., 9.]],\n",
      "\n",
      "        [[1., 2., 3.],\n",
      "         [4., 5., 6.],\n",
      "         [7., 8., 9.]]]) torch.Size([2, 3, 3])\n"
     ]
    }
   ],
   "source": [
    "X = torch.FloatTensor([[[1, 2, 3], [4, 5, 6], [7, 8, 9]], [[1, 2, 3], [4, 5, 6], [7, 8, 9]]])\n",
    "print(X, X.shape)"
   ]
  },
  {
   "cell_type": "code",
   "execution_count": 62,
   "id": "7bd75d8b",
   "metadata": {},
   "outputs": [
    {
     "name": "stdout",
     "output_type": "stream",
     "text": [
      "tensor([[[ 2.,  3.,  4.],\n",
      "         [ 5.,  6.,  7.],\n",
      "         [ 8.,  9., 10.]],\n",
      "\n",
      "        [[ 2.,  3.,  4.],\n",
      "         [ 5.,  6.,  7.],\n",
      "         [ 8.,  9., 10.]]])\n",
      "tensor([[[ 2.,  3.,  4.],\n",
      "         [ 5.,  6.,  7.],\n",
      "         [ 8.,  9., 10.]],\n",
      "\n",
      "        [[ 2.,  3.,  4.],\n",
      "         [ 5.,  6.,  7.],\n",
      "         [ 8.,  9., 10.]]])\n",
      "tensor([[[ 2.,  3.,  4.],\n",
      "         [ 5.,  6.,  7.],\n",
      "         [ 8.,  9., 10.]],\n",
      "\n",
      "        [[ 2.,  3.,  4.],\n",
      "         [ 5.,  6.,  7.],\n",
      "         [ 8.,  9., 10.]]])\n"
     ]
    }
   ],
   "source": [
    "Y = torch.ones((1, 1, 3))\n",
    "print(Y + X)\n",
    "\n",
    "Y = torch.ones((1, 3))\n",
    "print(Y + X)\n",
    "# (0, 1, 3) - (2, 3, 3) :\n",
    "# (1),(2),(3). (3) : ok, (2) : ok, (1) : not exist -> ok.\n",
    "\n",
    "Y = torch.ones(3)\n",
    "print(Y + X)\n",
    "# (0, 0, 3) - (2, 3, 3) :\n",
    "# (1),(2),(3). (3) : ok, (2) : not exist, (1) : not exist -> ok."
   ]
  },
  {
   "cell_type": "markdown",
   "id": "98d22daf",
   "metadata": {},
   "source": [
    "## ndarray ↔ tensor"
   ]
  },
  {
   "cell_type": "code",
   "execution_count": 64,
   "id": "5f86ec4d",
   "metadata": {},
   "outputs": [
    {
     "name": "stdout",
     "output_type": "stream",
     "text": [
      "<class 'numpy.ndarray'>\n",
      "<class 'torch.Tensor'>\n"
     ]
    }
   ],
   "source": [
    "a = X.numpy()\n",
    "print(type(a))\n",
    "t = torch.from_numpy(a)\n",
    "print(type(t))"
   ]
  },
  {
   "cell_type": "markdown",
   "id": "bd2bf887",
   "metadata": {},
   "source": [
    "# Autograd"
   ]
  },
  {
   "cell_type": "markdown",
   "id": "63a0edd3",
   "metadata": {},
   "source": [
    "## Example\n",
    "### 1. Initialize"
   ]
  },
  {
   "cell_type": "code",
   "execution_count": 87,
   "id": "ceab2d30",
   "metadata": {},
   "outputs": [],
   "source": [
    "w = torch.randn(2, requires_grad = True)\n",
    "x = torch.Tensor([1, 2])"
   ]
  },
  {
   "cell_type": "markdown",
   "id": "fe573973",
   "metadata": {},
   "source": [
    "### 2. Predict output"
   ]
  },
  {
   "cell_type": "code",
   "execution_count": 88,
   "id": "1fd5dd6c",
   "metadata": {},
   "outputs": [],
   "source": [
    "y_hat = torch.inner(w, x)"
   ]
  },
  {
   "cell_type": "markdown",
   "id": "32c09061",
   "metadata": {},
   "source": [
    "### 2-2. Intermediate results"
   ]
  },
  {
   "cell_type": "code",
   "execution_count": 89,
   "id": "f3b585c1",
   "metadata": {},
   "outputs": [
    {
     "name": "stdout",
     "output_type": "stream",
     "text": [
      "tensor([1., 2.])\n",
      "tensor([-0.3628, -0.8129], requires_grad=True)\n",
      "tensor(-1.9887, grad_fn=<ReshapeAliasBackward0>)\n"
     ]
    }
   ],
   "source": [
    "print(x)\n",
    "print(w)\n",
    "print(y_hat)"
   ]
  },
  {
   "cell_type": "markdown",
   "id": "b0de6f20",
   "metadata": {},
   "source": [
    "### 3. Compute loss"
   ]
  },
  {
   "cell_type": "code",
   "execution_count": 90,
   "id": "27e59170",
   "metadata": {},
   "outputs": [
    {
     "name": "stdout",
     "output_type": "stream",
     "text": [
      "tensor(12.1709, grad_fn=<PowBackward0>)\n"
     ]
    }
   ],
   "source": [
    "loss = (x.mean() - y_hat)**2\n",
    "print(loss)"
   ]
  },
  {
   "cell_type": "markdown",
   "id": "fd37f8d1",
   "metadata": {},
   "source": [
    "### 4. Backpropagation"
   ]
  },
  {
   "cell_type": "code",
   "execution_count": 91,
   "id": "ee6b3b90",
   "metadata": {},
   "outputs": [],
   "source": [
    "loss.backward()"
   ]
  },
  {
   "cell_type": "markdown",
   "id": "8ff44470",
   "metadata": {},
   "source": [
    "### 4-2. Accessing the gradient"
   ]
  },
  {
   "cell_type": "code",
   "execution_count": 92,
   "id": "2a38b055",
   "metadata": {},
   "outputs": [
    {
     "data": {
      "text/plain": [
       "tensor([ -6.9774, -13.9547])"
      ]
     },
     "execution_count": 92,
     "metadata": {},
     "output_type": "execute_result"
    }
   ],
   "source": [
    "w.grad"
   ]
  },
  {
   "cell_type": "markdown",
   "id": "2b1249db",
   "metadata": {},
   "source": [
    "### 5. Update parameters"
   ]
  },
  {
   "cell_type": "code",
   "execution_count": 93,
   "id": "7b47a31b",
   "metadata": {},
   "outputs": [
    {
     "name": "stdout",
     "output_type": "stream",
     "text": [
      "None\n",
      "False\n",
      "None\n"
     ]
    }
   ],
   "source": [
    "lr = 0.1\n",
    "with torch.no_grad():\n",
    "    w = w - lr * w.grad\n",
    "    print(w.grad)\n",
    "print(w.requires_grad)\n",
    "w.requires_grad = True\n",
    "print(w.grad)"
   ]
  },
  {
   "cell_type": "markdown",
   "id": "fdf34eb3",
   "metadata": {},
   "source": [
    "## Avoiding in-place operations"
   ]
  },
  {
   "cell_type": "code",
   "execution_count": 101,
   "id": "8c990d2b",
   "metadata": {},
   "outputs": [
    {
     "name": "stdout",
     "output_type": "stream",
     "text": [
      "tensor([[[1., 1., 1.],\n",
      "         [1., 1., 1.],\n",
      "         [1., 1., 1.]],\n",
      "\n",
      "        [[0., 0., 0.],\n",
      "         [0., 0., 0.],\n",
      "         [0., 0., 0.]]])\n",
      "tensor([[[1., 2., 3.],\n",
      "         [4., 5., 6.],\n",
      "         [7., 8., 9.]],\n",
      "\n",
      "        [[0., 0., 0.],\n",
      "         [0., 0., 0.],\n",
      "         [0., 0., 0.]]])\n"
     ]
    }
   ],
   "source": [
    "# 1. A = A + X\n",
    "# 2.\n",
    "mask = torch.ones_like(t)\n",
    "mask[1:, :] = 0\n",
    "print(mask)\n",
    "t = t*mask\n",
    "print(t)"
   ]
  },
  {
   "cell_type": "markdown",
   "id": "e4c026e8",
   "metadata": {},
   "source": [
    "# Implement a Shallow NN with PyTorch autograd"
   ]
  },
  {
   "cell_type": "markdown",
   "id": "474ab084",
   "metadata": {},
   "source": [
    "## Data preparation & Import"
   ]
  },
  {
   "cell_type": "code",
   "execution_count": 102,
   "id": "ed742296",
   "metadata": {},
   "outputs": [],
   "source": [
    "import numpy as np\n",
    "import torch"
   ]
  },
  {
   "cell_type": "markdown",
   "id": "52fa5221",
   "metadata": {},
   "source": [
    "### XOR data (numpy)"
   ]
  },
  {
   "cell_type": "code",
   "execution_count": 118,
   "id": "e12cd52e",
   "metadata": {},
   "outputs": [],
   "source": [
    "x_seeds = np.array([(0, 0), (1, 0), (0, 1), (1, 1)], dtype = np.float32)\n",
    "y_seeds = np.array([0, 1, 1, 0])\n",
    "\n",
    "N = 1000\n",
    "idxs = np.random.randint(0, 4, N)\n",
    "\n",
    "X = x_seeds[idxs]\n",
    "Y = y_seeds[idxs]\n",
    "\n",
    "X += np.random.normal(scale = 0.25, size = X.shape)"
   ]
  },
  {
   "cell_type": "markdown",
   "id": "cc91361b",
   "metadata": {},
   "source": [
    "## Model"
   ]
  },
  {
   "cell_type": "markdown",
   "id": "a0ddceda",
   "metadata": {},
   "source": [
    "### Model (torch)"
   ]
  },
  {
   "cell_type": "code",
   "execution_count": 119,
   "id": "a3486667",
   "metadata": {},
   "outputs": [],
   "source": [
    "class shallow_neural_network():\n",
    "    def __init__(self, num_input_features, num_hiddens):\n",
    "        self.num_input_features = num_input_features\n",
    "        self.num_hiddens = num_hiddens\n",
    "        \n",
    "        self.W1 = torch.randn((num_hiddens, num_input_features), requires_grad = True)\n",
    "        self.b1 = torch.randn(num_hiddens, requires_grad = True)\n",
    "        self.W2 = torch.randn(num_hiddens, requires_grad = True)\n",
    "        self.b2 = torch.randn(1, requires_grad = True)\n",
    "        \n",
    "        self.tanh = torch.nn.Tanh()\n",
    "        self.sigmoid = torch.nn.Sigmoid()\n",
    "        \n",
    "    def predict(self, x):\n",
    "        z1 = torch.matmul(self.W1, x) + self.b1\n",
    "        a1 = self.tanh(z1)\n",
    "        z2 = torch.matmul(self.W2, a1) + self.b2\n",
    "        a2 = self.sigmoid(z2)\n",
    "        return a2"
   ]
  },
  {
   "cell_type": "markdown",
   "id": "880248f8",
   "metadata": {},
   "source": [
    "## Training"
   ]
  },
  {
   "cell_type": "code",
   "execution_count": 120,
   "id": "baa57e0a",
   "metadata": {},
   "outputs": [],
   "source": [
    "def train(X, Y, model, lr = 0.1):\n",
    "    m = len(X)\n",
    "    \n",
    "    cost = 0.0\n",
    "    for x, y in zip(X, Y):\n",
    "        x_torch = torch.from_numpy(x)\n",
    "        \n",
    "        a2 = model.predict(x_torch)\n",
    "        if y == 1:\n",
    "            loss = -torch.log(a2+0.0001)\n",
    "        else:\n",
    "            loss = -torch.log(1.0001-a2)\n",
    "        \n",
    "        loss.backward()\n",
    "        cost += loss.item()\n",
    "        \n",
    "    with torch.no_grad():\n",
    "        model.W1 -= lr * model.W1.grad / m\n",
    "        model.b1 -= lr * model.b1.grad / m\n",
    "        model.W2 -= lr * model.W2.grad / m\n",
    "        model.b2 -= lr * model.b2.grad / m\n",
    "        \n",
    "    model.W1.requires_grad = True\n",
    "    model.b1.requires_grad = True\n",
    "    model.W2.requires_grad = True\n",
    "    model.b2.requires_grad = True\n",
    "    \n",
    "    return cost/m"
   ]
  },
  {
   "cell_type": "code",
   "execution_count": 122,
   "id": "b0aa51b8",
   "metadata": {
    "scrolled": true
   },
   "outputs": [
    {
     "name": "stdout",
     "output_type": "stream",
     "text": [
      "0 0.7527297248840332\n",
      "10 0.677710083603859\n",
      "20 0.538378561925143\n",
      "30 0.3059057673345925\n",
      "40 0.3551357912369235\n",
      "50 0.37402007443872093\n",
      "60 0.3429546073620909\n",
      "70 0.3608650089541818\n",
      "80 0.38654966324056045\n",
      "90 0.39258272700098906\n"
     ]
    }
   ],
   "source": [
    "model = shallow_neural_network(2, 3)\n",
    "\n",
    "for epoch in range(100):\n",
    "    cost = train(X, Y, model, 1.0)\n",
    "    if epoch % 10 == 0:\n",
    "        print(epoch, cost)"
   ]
  },
  {
   "cell_type": "markdown",
   "id": "f104b3ec",
   "metadata": {},
   "source": [
    "## Testing"
   ]
  },
  {
   "cell_type": "code",
   "execution_count": 123,
   "id": "1ef5137d",
   "metadata": {
    "scrolled": true
   },
   "outputs": [
    {
     "name": "stdout",
     "output_type": "stream",
     "text": [
      "tensor([4.5543e-18], grad_fn=<SigmoidBackward0>)\n",
      "tensor([0.8421], grad_fn=<SigmoidBackward0>)\n",
      "tensor([0.7720], grad_fn=<SigmoidBackward0>)\n",
      "tensor([7.4709e-23], grad_fn=<SigmoidBackward0>)\n"
     ]
    }
   ],
   "source": [
    "print(model.predict(torch.Tensor((0, 0))))\n",
    "print(model.predict(torch.Tensor((0, 1))))\n",
    "print(model.predict(torch.Tensor((1, 0))))\n",
    "print(model.predict(torch.Tensor((1, 1))))"
   ]
  },
  {
   "cell_type": "markdown",
   "id": "626980e7",
   "metadata": {},
   "source": [
    "# nn.Module"
   ]
  },
  {
   "cell_type": "markdown",
   "id": "b882132d",
   "metadata": {},
   "source": [
    "## A simple custom module"
   ]
  },
  {
   "cell_type": "code",
   "execution_count": 124,
   "id": "d7699724",
   "metadata": {},
   "outputs": [
    {
     "data": {
      "text/plain": [
       "tensor([-1.0721,  3.5980, -1.3363], grad_fn=<AddBackward0>)"
      ]
     },
     "execution_count": 124,
     "metadata": {},
     "output_type": "execute_result"
    }
   ],
   "source": [
    "import torch\n",
    "from torch import nn\n",
    "\n",
    "class MyLinear(nn.Module):\n",
    "    def __init__(self, in_features, out_features):\n",
    "        super().__init__()\n",
    "        self.weight = nn.Parameter(torch.randn(in_features, out_features))\n",
    "        self.bias = nn.Parameter(torch.randn(out_features))\n",
    "        \n",
    "    def forward(self, input):\n",
    "        return (input @ self.weight) + self.bias\n",
    "    \n",
    "m = MyLinear(4, 3)\n",
    "sample_input = torch.randn(4)\n",
    "m(sample_input)"
   ]
  },
  {
   "cell_type": "markdown",
   "id": "bfcee7bb",
   "metadata": {},
   "source": [
    "## Modules as Building Blocks"
   ]
  },
  {
   "cell_type": "code",
   "execution_count": 126,
   "id": "a872a131",
   "metadata": {},
   "outputs": [],
   "source": [
    "import torch.nn.functional as F\n",
    "\n",
    "class Net(nn.Module):\n",
    "    def __init__(self):\n",
    "        super().__init__()\n",
    "        self.l0 = nn.Linear(4, 3)\n",
    "        self.l1 = nn.Linear(3, 1)\n",
    "    def forward(self, x):\n",
    "        x = self.l0(x)\n",
    "        x = F.relu(x)\n",
    "        x = self.l1(x)\n",
    "        return x"
   ]
  },
  {
   "cell_type": "markdown",
   "id": "f6e2f75e",
   "metadata": {},
   "source": [
    "# Implementing a Shallow NN with autograd and nn.Module"
   ]
  },
  {
   "cell_type": "code",
   "execution_count": 156,
   "id": "02c542b0",
   "metadata": {},
   "outputs": [],
   "source": [
    "import numpy as np\n",
    "\n",
    "x_seeds = np.array([(0, 0), (1, 0), (0, 1), (1, 1)], dtype = np.float32)\n",
    "y_seeds = np.array([0, 1, 1, 0])\n",
    "\n",
    "N = 1000\n",
    "idxs = np.random.randint(0, 4, N)\n",
    "\n",
    "X = x_seeds[idxs]\n",
    "Y = y_seeds[idxs]\n",
    "\n",
    "X += np.random.normal(scale = 0.25, size = X.shape)"
   ]
  },
  {
   "cell_type": "markdown",
   "id": "9c018ef0",
   "metadata": {},
   "source": [
    "## Model (torch.nn.Module)"
   ]
  },
  {
   "cell_type": "code",
   "execution_count": 148,
   "id": "e30c07d0",
   "metadata": {},
   "outputs": [],
   "source": [
    "class shallow_neural_network_nnm(nn.Module):\n",
    "    def __init__(self, num_input_features, num_hiddens):\n",
    "        super().__init__()\n",
    "        self.num_input_features = num_input_features\n",
    "        self.num_hiddens = num_hiddens\n",
    "        \n",
    "        self.linear1 = nn.Linear(num_input_features, num_hiddens)\n",
    "        self.linear2 = nn.Linear(num_hiddens, 1)\n",
    "        \n",
    "        self.tanh = torch.nn.Tanh()\n",
    "        self.sigmoid = torch.nn.Sigmoid()\n",
    "        \n",
    "    def forward(self, x):\n",
    "        z1 = self.linear1(x)\n",
    "        a1 = self.tanh(z1)\n",
    "        z2 = self.linear2(a1)\n",
    "        a2 = self.sigmoid(z2)\n",
    "        return a2"
   ]
  },
  {
   "cell_type": "markdown",
   "id": "d3732cdc",
   "metadata": {},
   "source": [
    "## Training"
   ]
  },
  {
   "cell_type": "code",
   "execution_count": 155,
   "id": "3e514318",
   "metadata": {},
   "outputs": [
    {
     "name": "stdout",
     "output_type": "stream",
     "text": [
      "0 tensor(347.3601, grad_fn=<DivBackward0>)\n",
      "10 tensor(23550., grad_fn=<DivBackward0>)\n",
      "20 tensor(23550., grad_fn=<DivBackward0>)\n",
      "30 tensor(23550., grad_fn=<DivBackward0>)\n",
      "40 tensor(23550., grad_fn=<DivBackward0>)\n",
      "50 tensor(23550., grad_fn=<DivBackward0>)\n",
      "60 tensor(23550., grad_fn=<DivBackward0>)\n",
      "70 tensor(23550., grad_fn=<DivBackward0>)\n",
      "80 tensor(23550., grad_fn=<DivBackward0>)\n",
      "90 tensor(23550., grad_fn=<DivBackward0>)\n"
     ]
    }
   ],
   "source": [
    "num_epochs = 100\n",
    "lr_nnm = 1.0\n",
    "num_hiddens = 3\n",
    "\n",
    "model_nnm = shallow_neural_network_nnm(2, num_hiddens)\n",
    "optimizer_nnm = torch.optim.SGD(model_nnm.parameters(), lr = lr_nnm)\n",
    "loss_nnm = nn.BCELoss()\n",
    "\n",
    "for epoch in range(num_epochs):\n",
    "    optimizer_nnm.zero_grad()\n",
    "    \n",
    "    cost = 0.0\n",
    "    for x, y in zip(X, Y):\n",
    "        x_torch = torch.from_numpy(x)\n",
    "        y_torch = torch.FloatTensor([y])\n",
    "        \n",
    "        y_hat = model_nnm(x_torch)\n",
    "        \n",
    "        loss_val = loss_nnm(y_hat, y_torch)\n",
    "        cost += loss_val\n",
    "        \n",
    "    cost = cost / len(x)\n",
    "    cost.backward()\n",
    "    optimizer_nnm.step()\n",
    "    \n",
    "    if epoch %10 == 0:\n",
    "        print(epoch, cost)"
   ]
  },
  {
   "cell_type": "markdown",
   "id": "89758a4e",
   "metadata": {},
   "source": [
    "## Test"
   ]
  },
  {
   "cell_type": "code",
   "execution_count": 145,
   "id": "e22905fe",
   "metadata": {
    "scrolled": false
   },
   "outputs": [
    {
     "name": "stdout",
     "output_type": "stream",
     "text": [
      "[0. 0.]\n",
      "0 1.0\n",
      "[1. 0.]\n",
      "1 1.0\n",
      "[0. 1.]\n",
      "1 1.0\n",
      "[1. 1.]\n",
      "0 1.0\n"
     ]
    }
   ],
   "source": [
    "for x, y in zip(x_seeds, y_seeds):\n",
    "    print(x)\n",
    "    x_torch = torch.FloatTensor(x)\n",
    "    y_hat = model(x_torch)\n",
    "    print(y, y_hat.item())"
   ]
  }
 ],
 "metadata": {
  "kernelspec": {
   "display_name": "Python 3 (ipykernel)",
   "language": "python",
   "name": "python3"
  },
  "language_info": {
   "codemirror_mode": {
    "name": "ipython",
    "version": 3
   },
   "file_extension": ".py",
   "mimetype": "text/x-python",
   "name": "python",
   "nbconvert_exporter": "python",
   "pygments_lexer": "ipython3",
   "version": "3.8.13"
  }
 },
 "nbformat": 4,
 "nbformat_minor": 5
}
