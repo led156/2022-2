{
 "cells": [
  {
   "cell_type": "markdown",
   "id": "94460b6e",
   "metadata": {},
   "source": [
    "# Comparision of classifiers"
   ]
  },
  {
   "cell_type": "code",
   "execution_count": 3,
   "id": "04283ea3",
   "metadata": {},
   "outputs": [],
   "source": [
    "import sklearn\n",
    "\n",
    "from sklearn.datasets import load_iris, load_breast_cancer\n",
    "from sklearn.model_selection import train_test_split\n",
    "from sklearn.metrics import accuracy_score"
   ]
  },
  {
   "cell_type": "code",
   "execution_count": 4,
   "id": "8040cb8c",
   "metadata": {},
   "outputs": [],
   "source": [
    "from sklearn.ensemble import RandomForestClassifier, GradientBoostingClassifier\n",
    "from sklearn.tree import DecisionTreeClassifier\n",
    "from sklearn.neighbors import KNeighborsClassifier\n",
    "from sklearn.neural_network import MLPClassifier\n",
    "from sklearn.svm import SVC"
   ]
  },
  {
   "cell_type": "code",
   "execution_count": 6,
   "id": "6b07d7cb",
   "metadata": {},
   "outputs": [],
   "source": [
    "from catboost import CatBoostClassifier"
   ]
  },
  {
   "cell_type": "markdown",
   "id": "0dc5571d",
   "metadata": {},
   "source": [
    "## Load dataset"
   ]
  },
  {
   "cell_type": "code",
   "execution_count": 7,
   "id": "8a9cddfb",
   "metadata": {},
   "outputs": [],
   "source": [
    "# load sample\n",
    "dataset = load_breast_cancer()\n",
    "\n",
    "data = dataset['data']\n",
    "target = dataset['target']\n",
    "\n",
    "# train_test_split\n",
    "x_train, x_valid, y_train, y_valid = train_test_split(data, target, test_size=0.2, shuffle=True, stratify=target, random_state=1234)"
   ]
  },
  {
   "cell_type": "markdown",
   "id": "0fd1051f",
   "metadata": {},
   "source": [
    "## Compared models/algorithms"
   ]
  },
  {
   "cell_type": "code",
   "execution_count": 9,
   "id": "a5ac9d37",
   "metadata": {},
   "outputs": [],
   "source": [
    "dict_classifiers = {}\n",
    "dict_classifiers['5NN'] = KNeighborsClassifier(n_neighbors=5)\n",
    "dict_classifiers['MLP'] = MLPClassifier(hidden_layer_sizes=(32,32))\n",
    "dict_classifiers['SVM'] = SVC()\n",
    "dict_classifiers['Decision tree'] = DecisionTreeClassifier()\n",
    "dict_classifiers['Random forest'] = RandomForestClassifier(max_depth=2,)\n",
    "dict_classifiers['Gradient boosting'] = GradientBoostingClassifier()\n",
    "dict_classifiers['CatBoost'] = CatBoostClassifier(verbose=False)"
   ]
  },
  {
   "cell_type": "markdown",
   "id": "7eb306f5",
   "metadata": {},
   "source": [
    "## Train/Test"
   ]
  },
  {
   "cell_type": "code",
   "execution_count": 10,
   "id": "abea7c05",
   "metadata": {},
   "outputs": [
    {
     "name": "stdout",
     "output_type": "stream",
     "text": [
      "====================\n",
      "5NN\n",
      "Accuracy: 0.9211\n",
      "====================\n",
      "MLP\n"
     ]
    },
    {
     "name": "stderr",
     "output_type": "stream",
     "text": [
      "/Users/eunbilee/opt/anaconda3/envs/CSE4007/lib/python3.8/site-packages/sklearn/neural_network/_multilayer_perceptron.py:702: ConvergenceWarning: Stochastic Optimizer: Maximum iterations (200) reached and the optimization hasn't converged yet.\n",
      "  warnings.warn(\n"
     ]
    },
    {
     "name": "stdout",
     "output_type": "stream",
     "text": [
      "Accuracy: 0.9211\n",
      "====================\n",
      "SVM\n",
      "Accuracy: 0.9123\n",
      "====================\n",
      "Decision tree\n",
      "Accuracy: 0.9561\n",
      "====================\n",
      "Random forest\n",
      "Accuracy: 0.9561\n",
      "====================\n",
      "Gradient boosting\n",
      "Accuracy: 0.9737\n",
      "====================\n",
      "CatBoost\n",
      "Accuracy: 0.9561\n"
     ]
    }
   ],
   "source": [
    "for name, clf in dict_classifiers.items():\n",
    "    print(\"=\"*20)\n",
    "    print(name)\n",
    "    \n",
    "    clf.fit(x_train, y_train)\n",
    "    y_hat_valid = clf.predict(x_valid)\n",
    "    accuracy = accuracy_score(y_valid, y_hat_valid)\n",
    "    print(f\"Accuracy: {accuracy:.4f}\")"
   ]
  }
 ],
 "metadata": {
  "kernelspec": {
   "display_name": "Python 3 (ipykernel)",
   "language": "python",
   "name": "python3"
  },
  "language_info": {
   "codemirror_mode": {
    "name": "ipython",
    "version": 3
   },
   "file_extension": ".py",
   "mimetype": "text/x-python",
   "name": "python",
   "nbconvert_exporter": "python",
   "pygments_lexer": "ipython3",
   "version": "3.8.13"
  }
 },
 "nbformat": 4,
 "nbformat_minor": 5
}
