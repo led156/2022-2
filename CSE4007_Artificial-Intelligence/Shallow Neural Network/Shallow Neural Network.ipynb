{
 "cells": [
  {
   "cell_type": "markdown",
   "id": "8e02e6b0",
   "metadata": {},
   "source": [
    "# Homework3\n",
    "## 2020062324 이은비"
   ]
  },
  {
   "cell_type": "code",
   "execution_count": 14,
   "id": "c6ff31d4",
   "metadata": {},
   "outputs": [],
   "source": [
    "import numpy as np"
   ]
  },
  {
   "cell_type": "markdown",
   "id": "b5d239ec",
   "metadata": {},
   "source": [
    "## Data preparation"
   ]
  },
  {
   "cell_type": "markdown",
   "id": "2bca23d6",
   "metadata": {},
   "source": [
    "### XOR data"
   ]
  },
  {
   "cell_type": "code",
   "execution_count": 15,
   "id": "c19f1084",
   "metadata": {},
   "outputs": [
    {
     "name": "stderr",
     "output_type": "stream",
     "text": [
      "/var/folders/v1/zffq_5dd7ds_80dtp9nqzy580000gn/T/ipykernel_10010/4040752730.py:1: DeprecationWarning: `np.float` is a deprecated alias for the builtin `float`. To silence this warning, use `float` by itself. Doing this will not modify any behavior and is safe. If you specifically wanted the numpy scalar type, use `np.float64` here.\n",
      "Deprecated in NumPy 1.20; for more details and guidance: https://numpy.org/devdocs/release/1.20.0-notes.html#deprecations\n",
      "  x_seeds = np.array([(0, 0), (1, 0), (0, 1), (1, 1)], dtype = np.float)\n"
     ]
    }
   ],
   "source": [
    "x_seeds = np.array([(0, 0), (1, 0), (0, 1), (1, 1)], dtype = np.float)\n",
    "y_seeds = np.array([0, 1, 1, 0])"
   ]
  },
  {
   "cell_type": "code",
   "execution_count": 16,
   "id": "7c196b30",
   "metadata": {},
   "outputs": [],
   "source": [
    "N = 1000\n",
    "idxs = np.random.randint(0, 4, N) # 1000개의 random int 생성"
   ]
  },
  {
   "cell_type": "code",
   "execution_count": 17,
   "id": "25272c46",
   "metadata": {},
   "outputs": [],
   "source": [
    "X = x_seeds[idxs]\n",
    "Y = y_seeds[idxs]"
   ]
  },
  {
   "cell_type": "code",
   "execution_count": 18,
   "id": "374eb789",
   "metadata": {},
   "outputs": [],
   "source": [
    "X += np.random.normal(scale = 0.25, size = X.shape)"
   ]
  },
  {
   "cell_type": "markdown",
   "id": "3529136d",
   "metadata": {},
   "source": [
    "## Model"
   ]
  },
  {
   "cell_type": "markdown",
   "id": "3f7dae09",
   "metadata": {},
   "source": [
    "- Parameters:\n",
    "\n",
    "$\\mathbf{W}^{[1]} \\in \\mathbb{R}^{h\\times n}$\n",
    "\n",
    "$\\mathbf{w}^{[2]} \\in \\mathbb{R}^{h}$\n",
    "\n",
    "$\\mathbf{b}^{[1]} \\in \\mathbb{R}^{h}$\n",
    "\n",
    "$b^{[2]} \\in \\mathbb{R}$\n",
    "\n",
    "- derivatives\n",
    "\n",
    "$\\frac{\\partial L(a^{[2]}, y)}{\\partial b^{[2]}} = a^{[2]}-y$\n",
    "\n",
    "$\\frac{\\partial L(a^{[2]}, y)}{\\partial {w_i}^{[2]}} = (a^{[2]}-y){a_i}^{[1]}$\n",
    "\n",
    "$\\frac{\\partial L(a^{[2]}, y)}{\\partial {b_i}^{[1]}} = (a^{[2]}-y){w_i}^{[2]}(1-{{a_i}^{[1]}}^{2})$\n",
    "\n",
    "$\\frac{\\partial L(a^{[2]}, y)}{\\partial {W_{ij}}^{[1]}} = (a^{[2]}-y){w_i}^{[2]}(1-{{a_i}^{[1]}}^{2})x_j$"
   ]
  },
  {
   "cell_type": "code",
   "execution_count": 19,
   "id": "081dcc32",
   "metadata": {},
   "outputs": [],
   "source": [
    "class shallow_neural_network():\n",
    "    def __init__(self, num_input_features, num_hiddens):\n",
    "        self.num_input_features = num_input_features\n",
    "        self.num_hiddens = num_hiddens\n",
    "        \n",
    "        self.W1 = np.random.normal(size = (num_hiddens, num_input_features))\n",
    "        self.b1 = np.random.normal(size = num_hiddens)\n",
    "        self.W2 = np.random.normal(size = num_hiddens)\n",
    "        self.b2 = np.random.normal(size = 1)\n",
    "        \n",
    "    def sigmoid(self, z):\n",
    "        return 1/(1 + np.exp(-z))\n",
    "    \n",
    "    def predict(self, x):\n",
    "        z1 = np.matmul(self.W1, x) + self.b1\n",
    "        a1 = np.tanh(z1)\n",
    "        z2 = np.matmul(self.W2, a1) + self.b2\n",
    "        a2 = self.sigmoid(z2)\n",
    "        return a2, (z1, a1, z2, a2)"
   ]
  },
  {
   "cell_type": "code",
   "execution_count": 20,
   "id": "226ff651",
   "metadata": {},
   "outputs": [],
   "source": [
    "model = shallow_neural_network(2, 3)"
   ]
  },
  {
   "cell_type": "markdown",
   "id": "d11c692f",
   "metadata": {},
   "source": [
    "## Train (with vector operations)"
   ]
  },
  {
   "cell_type": "code",
   "execution_count": 21,
   "id": "2e287442",
   "metadata": {},
   "outputs": [],
   "source": [
    "def train(X, Y, model, lr = 0.1):\n",
    "    dW1 = np.zeros_like(model.W1)\n",
    "    db1 = np.zeros_like(model.b1)\n",
    "    dW2 = np.zeros_like(model.W2)\n",
    "    db2 = np.zeros_like(model.b2)\n",
    "    m = len(X)\n",
    "    cost = 0.0\n",
    "    for x, y in zip(X, Y):\n",
    "        a2, (z1, a1, z2, _) = model.predict(x)\n",
    "        if y == 1:\n",
    "            cost -= np.log(a2)\n",
    "        else:\n",
    "            cost -= np.log(1-a2)\n",
    "            \n",
    "        diff = a2-y\n",
    "        \n",
    "        # layer 2\n",
    "        # db2\n",
    "        db2 += diff\n",
    "        \n",
    "        # dw2\n",
    "        dW2 += a1*diff\n",
    "            \n",
    "        # layer 1\n",
    "        # db1\n",
    "        db1_tmp = diff * (np.multiply(model.W2, (1-a1**2)))\n",
    "        db1 += db1_tmp\n",
    "        # db2\n",
    "        dW1 += np.outer(db1_tmp, x)\n",
    "                \n",
    "    cost /= m\n",
    "    model.W1 -= lr * dW1/m\n",
    "    model.b1 -= lr * db1/m\n",
    "    model.W2 -= lr * dW2/m\n",
    "    model.b2 -= lr * db2/m\n",
    "        \n",
    "    return cost"
   ]
  },
  {
   "cell_type": "code",
   "execution_count": 22,
   "id": "50da35a4",
   "metadata": {},
   "outputs": [
    {
     "name": "stdout",
     "output_type": "stream",
     "text": [
      "0 [0.98588883]\n",
      "10 [0.52568986]\n",
      "20 [0.44052513]\n",
      "30 [0.38556913]\n",
      "40 [0.34980507]\n",
      "50 [0.32691982]\n",
      "60 [0.31213534]\n",
      "70 [0.30236865]\n",
      "80 [0.29575327]\n",
      "90 [0.29116166]\n"
     ]
    }
   ],
   "source": [
    "for epoch in range(100):\n",
    "    cost = train(X, Y, model, 1.0)\n",
    "    if epoch %10 == 0:\n",
    "        print(epoch, cost)"
   ]
  },
  {
   "cell_type": "markdown",
   "id": "a21be198",
   "metadata": {},
   "source": [
    "## Test"
   ]
  },
  {
   "cell_type": "code",
   "execution_count": 23,
   "id": "18b86ef1",
   "metadata": {},
   "outputs": [
    {
     "data": {
      "text/plain": [
       "0.09298496929567225"
      ]
     },
     "execution_count": 23,
     "metadata": {},
     "output_type": "execute_result"
    }
   ],
   "source": [
    "model.predict((1, 1))[0].item()"
   ]
  },
  {
   "cell_type": "code",
   "execution_count": 24,
   "id": "2b5c5530",
   "metadata": {},
   "outputs": [
    {
     "data": {
      "text/plain": [
       "0.9350967800839893"
      ]
     },
     "execution_count": 24,
     "metadata": {},
     "output_type": "execute_result"
    }
   ],
   "source": [
    "model.predict((1, 0))[0].item()"
   ]
  },
  {
   "cell_type": "code",
   "execution_count": 25,
   "id": "9d796877",
   "metadata": {},
   "outputs": [
    {
     "data": {
      "text/plain": [
       "0.9368359730827288"
      ]
     },
     "execution_count": 25,
     "metadata": {},
     "output_type": "execute_result"
    }
   ],
   "source": [
    "model.predict((0, 1))[0].item()"
   ]
  },
  {
   "cell_type": "code",
   "execution_count": 26,
   "id": "bd6af53e",
   "metadata": {},
   "outputs": [
    {
     "data": {
      "text/plain": [
       "0.07198699376899065"
      ]
     },
     "execution_count": 26,
     "metadata": {},
     "output_type": "execute_result"
    }
   ],
   "source": [
    "model.predict((0, 0))[0].item()"
   ]
  }
 ],
 "metadata": {
  "kernelspec": {
   "display_name": "Python 3 (ipykernel)",
   "language": "python",
   "name": "python3"
  },
  "language_info": {
   "codemirror_mode": {
    "name": "ipython",
    "version": 3
   },
   "file_extension": ".py",
   "mimetype": "text/x-python",
   "name": "python",
   "nbconvert_exporter": "python",
   "pygments_lexer": "ipython3",
   "version": "3.8.13"
  }
 },
 "nbformat": 4,
 "nbformat_minor": 5
}
