{
 "cells": [
  {
   "cell_type": "code",
   "execution_count": 185,
   "id": "c6ff31d4",
   "metadata": {},
   "outputs": [],
   "source": [
    "import numpy as np"
   ]
  },
  {
   "cell_type": "markdown",
   "id": "88010147",
   "metadata": {},
   "source": [
    "# Numpy array"
   ]
  },
  {
   "cell_type": "markdown",
   "id": "864ba96c",
   "metadata": {},
   "source": [
    "## Slicing"
   ]
  },
  {
   "cell_type": "code",
   "execution_count": 186,
   "id": "d1b8256d",
   "metadata": {},
   "outputs": [
    {
     "data": {
      "text/plain": [
       "array([4, 8])"
      ]
     },
     "execution_count": 186,
     "metadata": {},
     "output_type": "execute_result"
    }
   ],
   "source": [
    "a_array = np.array([2, 4, 6, 8, 10])\n",
    "b_array = np.array([1, 3])\n",
    "a_array[b_array] # idx 1, 3 에 있는 값만 슬라이싱한 것!"
   ]
  },
  {
   "cell_type": "markdown",
   "id": "889cbb0d",
   "metadata": {},
   "source": [
    "## Slicing with condition"
   ]
  },
  {
   "cell_type": "code",
   "execution_count": 187,
   "id": "2db5e9de",
   "metadata": {},
   "outputs": [
    {
     "data": {
      "text/plain": [
       "array([ 6,  8, 10])"
      ]
     },
     "execution_count": 187,
     "metadata": {},
     "output_type": "execute_result"
    }
   ],
   "source": [
    "a_array[a_array>5] # 5 초과인 value만 남도록 슬라이싱"
   ]
  },
  {
   "cell_type": "code",
   "execution_count": 188,
   "id": "cdc23738",
   "metadata": {},
   "outputs": [
    {
     "data": {
      "text/plain": [
       "array([6])"
      ]
     },
     "execution_count": 188,
     "metadata": {},
     "output_type": "execute_result"
    }
   ],
   "source": [
    "a_array[a_array%3==0] # 3 을 나눈 나머지가 0인 value만 남도록 슬라이싱"
   ]
  },
  {
   "cell_type": "markdown",
   "id": "d53cf235",
   "metadata": {},
   "source": [
    "## Outer product\n",
    "\n",
    "a = [a0, a1, ..., aM] and b = [b0, b1, ..., bN]\n",
    "\n",
    "[[a0*b0  a0*b1 ... a0*bN ]\n",
    "\n",
    " [a1*b0    .\n",
    " \n",
    " [ ...          .\n",
    " \n",
    " [aM*b0  ...       aM*bN ]]\n",
    " "
   ]
  },
  {
   "cell_type": "code",
   "execution_count": 189,
   "id": "250ead99",
   "metadata": {},
   "outputs": [
    {
     "data": {
      "text/plain": [
       "array([[1, 2],\n",
       "       [2, 4],\n",
       "       [3, 6]])"
      ]
     },
     "execution_count": 189,
     "metadata": {},
     "output_type": "execute_result"
    }
   ],
   "source": [
    "np.outer(np.array([1, 2, 3]), np.array([1, 2]))"
   ]
  },
  {
   "cell_type": "markdown",
   "id": "487f87b2",
   "metadata": {},
   "source": [
    "---"
   ]
  },
  {
   "cell_type": "markdown",
   "id": "55bcee6a",
   "metadata": {},
   "source": [
    "# Shallow neural network"
   ]
  },
  {
   "cell_type": "markdown",
   "id": "b5d239ec",
   "metadata": {},
   "source": [
    "## Data preparation"
   ]
  },
  {
   "cell_type": "markdown",
   "id": "2bca23d6",
   "metadata": {},
   "source": [
    "### XOR data"
   ]
  },
  {
   "cell_type": "code",
   "execution_count": 190,
   "id": "c19f1084",
   "metadata": {},
   "outputs": [
    {
     "name": "stderr",
     "output_type": "stream",
     "text": [
      "/var/folders/v1/zffq_5dd7ds_80dtp9nqzy580000gn/T/ipykernel_49724/4040752730.py:1: DeprecationWarning: `np.float` is a deprecated alias for the builtin `float`. To silence this warning, use `float` by itself. Doing this will not modify any behavior and is safe. If you specifically wanted the numpy scalar type, use `np.float64` here.\n",
      "Deprecated in NumPy 1.20; for more details and guidance: https://numpy.org/devdocs/release/1.20.0-notes.html#deprecations\n",
      "  x_seeds = np.array([(0, 0), (1, 0), (0, 1), (1, 1)], dtype = np.float)\n"
     ]
    }
   ],
   "source": [
    "x_seeds = np.array([(0, 0), (1, 0), (0, 1), (1, 1)], dtype = np.float)\n",
    "y_seeds = np.array([0, 1, 1, 0])"
   ]
  },
  {
   "cell_type": "code",
   "execution_count": 191,
   "id": "7c196b30",
   "metadata": {},
   "outputs": [],
   "source": [
    "N = 1000\n",
    "idxs = np.random.randint(0, 4, N) # 1000개의 random int 생성"
   ]
  },
  {
   "cell_type": "code",
   "execution_count": 192,
   "id": "25272c46",
   "metadata": {},
   "outputs": [],
   "source": [
    "X = x_seeds[idxs]\n",
    "Y = y_seeds[idxs]"
   ]
  },
  {
   "cell_type": "code",
   "execution_count": 193,
   "id": "374eb789",
   "metadata": {},
   "outputs": [],
   "source": [
    "X += np.random.normal(scale = 0.25, size = X.shape)"
   ]
  },
  {
   "cell_type": "markdown",
   "id": "35f201b1",
   "metadata": {},
   "source": [
    "## ( Data plotting )"
   ]
  },
  {
   "cell_type": "code",
   "execution_count": 194,
   "id": "a65dc0c9",
   "metadata": {},
   "outputs": [],
   "source": [
    "import matplotlib.pyplot as plt\n",
    "\n",
    "idxs_1 = np.where(Y==1)\n",
    "idxs_0 = np.where(Y==0)"
   ]
  },
  {
   "cell_type": "code",
   "execution_count": 195,
   "id": "55a2f4db",
   "metadata": {},
   "outputs": [],
   "source": [
    "X_0 = X[idxs_0]\n",
    "Y_0 = Y[idxs_0]\n",
    "\n",
    "X_1 = X[idxs_1]\n",
    "Y_1 = Y[idxs_1]"
   ]
  },
  {
   "cell_type": "code",
   "execution_count": 196,
   "id": "21d03961",
   "metadata": {},
   "outputs": [
    {
     "data": {
      "image/png": "[encoded data removed]",
      "text/plain": [
       "<Figure size 432x288 with 1 Axes>"
      ]
     },
     "metadata": {
      "needs_background": "light"
     },
     "output_type": "display_data"
    }
   ],
   "source": [
    "plt.plot(X_0[:,0],X_0[:,1],\"r^\")\n",
    "plt.plot(X_1[:,0],X_1[:,1],\"bx\")\n",
    "plt.show()"
   ]
  },
  {
   "cell_type": "markdown",
   "id": "3529136d",
   "metadata": {},
   "source": [
    "## Model"
   ]
  },
  {
   "cell_type": "code",
   "execution_count": 197,
   "id": "081dcc32",
   "metadata": {},
   "outputs": [],
   "source": [
    "class shallow_neural_network():\n",
    "    def __init__(self, num_input_features, num_hiddens):\n",
    "        self.num_input_features = num_input_features\n",
    "        self.num_hiddens = num_hiddens\n",
    "        \n",
    "        self.W1 = np.random.normal(size = (num_hiddens, num_input_features))\n",
    "        self.b1 = np.random.normal(size = num_hiddens)\n",
    "        self.W2 = np.random.normal(size = num_hiddens)\n",
    "        self.b2 = np.random.normal(size = 1)\n",
    "        \n",
    "    def sigmoid(self, z):\n",
    "        return 1/(1 + np.exp(-z))\n",
    "    \n",
    "    def predict(self, x):\n",
    "        z1 = np.matmul(self.W1, x) + self.b1\n",
    "        a1 = np.tanh(z1)\n",
    "        z2 = np.matmul(self.W2, a1) + self.b2\n",
    "        a2 = self.sigmoid(z2)\n",
    "        return a2, (z1, a1, z2, a2)"
   ]
  },
  {
   "cell_type": "code",
   "execution_count": 198,
   "id": "226ff651",
   "metadata": {},
   "outputs": [],
   "source": [
    "model = shallow_neural_network(2, 3)"
   ]
  },
  {
   "cell_type": "markdown",
   "id": "d11c692f",
   "metadata": {},
   "source": [
    "## Train (with element-wise operations)"
   ]
  },
  {
   "cell_type": "code",
   "execution_count": 199,
   "id": "2e287442",
   "metadata": {},
   "outputs": [],
   "source": [
    "def train(X, Y, model, lr = 0.1):\n",
    "    dW1 = np.zeros_like(model.W1)\n",
    "    db1 = np.zeros_like(model.b1)\n",
    "    dW2 = np.zeros_like(model.W2)\n",
    "    db2 = np.zeros_like(model.b2)\n",
    "    m = len(X)\n",
    "    cost = 0.0\n",
    "    for x, y in zip(X, Y):\n",
    "        a2, (z1, a1, z2, _) = model.predict(x)\n",
    "        if y == 1:\n",
    "            cost -= np.log(a2)\n",
    "        else:\n",
    "            cost -= np.log(1-a2)\n",
    "            \n",
    "        diff = a2-y\n",
    "        \n",
    "        # layer 2\n",
    "        # db2\n",
    "        db2 += diff\n",
    "        \n",
    "        # dw2\n",
    "        for i in range(model.num_hiddens):\n",
    "            dW2[i] += a1[i]*diff\n",
    "            \n",
    "        # layer 1\n",
    "        # db1\n",
    "        for i in range(model.num_hiddens):\n",
    "            db1[i] += (1-a1[i]**2)*model.W2[i]*diff\n",
    "        # db2\n",
    "        for i in range(model.num_hiddens):\n",
    "            for j in range(model.num_input_features):\n",
    "                dW1[i, j] += x[j]*(1-a1[i]**2)*model.W2[i]*diff\n",
    "                \n",
    "    cost /= m\n",
    "    model.W1 -= lr * dW1/m\n",
    "    model.b1 -= lr * db1/m\n",
    "    model.W2 -= lr * dW2/m\n",
    "    model.b2 -= lr * db2/m\n",
    "        \n",
    "    return cost"
   ]
  },
  {
   "cell_type": "code",
   "execution_count": 200,
   "id": "50da35a4",
   "metadata": {},
   "outputs": [
    {
     "name": "stdout",
     "output_type": "stream",
     "text": [
      "0 [0.81248186]\n",
      "10 [0.62584353]\n",
      "20 [0.54544595]\n",
      "30 [0.44676154]\n",
      "40 [0.38383225]\n",
      "50 [0.3453154]\n",
      "60 [0.31804576]\n",
      "70 [0.29691755]\n",
      "80 [0.27950624]\n",
      "90 [0.26463957]\n"
     ]
    }
   ],
   "source": [
    "for epoch in range(100):\n",
    "    cost = train(X, Y, model, 1.0)\n",
    "    if epoch %10 == 0:\n",
    "        print(epoch, cost)"
   ]
  },
  {
   "cell_type": "markdown",
   "id": "a21be198",
   "metadata": {},
   "source": [
    "## Test"
   ]
  },
  {
   "cell_type": "code",
   "execution_count": 201,
   "id": "18b86ef1",
   "metadata": {},
   "outputs": [
    {
     "data": {
      "text/plain": [
       "0.08367816923766652"
      ]
     },
     "execution_count": 201,
     "metadata": {},
     "output_type": "execute_result"
    }
   ],
   "source": [
    "model.predict((1, 1))[0].item()"
   ]
  },
  {
   "cell_type": "code",
   "execution_count": 202,
   "id": "2b5c5530",
   "metadata": {},
   "outputs": [
    {
     "data": {
      "text/plain": [
       "0.9626882827420519"
      ]
     },
     "execution_count": 202,
     "metadata": {},
     "output_type": "execute_result"
    }
   ],
   "source": [
    "model.predict((1, 0))[0].item()"
   ]
  },
  {
   "cell_type": "code",
   "execution_count": 203,
   "id": "9d796877",
   "metadata": {},
   "outputs": [
    {
     "data": {
      "text/plain": [
       "0.8976278765998352"
      ]
     },
     "execution_count": 203,
     "metadata": {},
     "output_type": "execute_result"
    }
   ],
   "source": [
    "model.predict((0, 1))[0].item()"
   ]
  },
  {
   "cell_type": "code",
   "execution_count": 204,
   "id": "bd6af53e",
   "metadata": {},
   "outputs": [
    {
     "data": {
      "text/plain": [
       "0.06245922616965799"
      ]
     },
     "execution_count": 204,
     "metadata": {},
     "output_type": "execute_result"
    }
   ],
   "source": [
    "model.predict((0, 0))[0].item()"
   ]
  }
 ],
 "metadata": {
  "kernelspec": {
   "display_name": "Python 3 (ipykernel)",
   "language": "python",
   "name": "python3"
  },
  "language_info": {
   "codemirror_mode": {
    "name": "ipython",
    "version": 3
   },
   "file_extension": ".py",
   "mimetype": "text/x-python",
   "name": "python",
   "nbconvert_exporter": "python",
   "pygments_lexer": "ipython3",
   "version": "3.8.13"
  }
 },
 "nbformat": 4,
 "nbformat_minor": 5
}
