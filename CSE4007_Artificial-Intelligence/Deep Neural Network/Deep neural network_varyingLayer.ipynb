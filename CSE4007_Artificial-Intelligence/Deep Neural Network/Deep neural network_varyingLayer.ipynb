{
 "cells": [
  {
   "cell_type": "markdown",
   "id": "72c24af2",
   "metadata": {},
   "source": [
    "# Homework5\n",
    "## 2020062324 이은비"
   ]
  },
  {
   "cell_type": "code",
   "execution_count": 16,
   "id": "6d23c6c8",
   "metadata": {},
   "outputs": [],
   "source": [
    "import torch\n",
    "import torchvision\n",
    "import numpy as np"
   ]
  },
  {
   "cell_type": "markdown",
   "id": "a96d7a8b",
   "metadata": {},
   "source": [
    "## Data loading"
   ]
  },
  {
   "cell_type": "code",
   "execution_count": 17,
   "id": "20100342",
   "metadata": {},
   "outputs": [],
   "source": [
    "from torchvision import datasets\n",
    "from torchvision import transforms"
   ]
  },
  {
   "cell_type": "code",
   "execution_count": 18,
   "id": "a5b802a2",
   "metadata": {},
   "outputs": [],
   "source": [
    "batch_size = 12\n",
    "\n",
    "train_data = datasets.MNIST('./data/', train = True, download = True, transform = transforms.ToTensor())\n",
    "test_data = datasets.MNIST('./data/', train = False, download = True, transform = transforms.ToTensor())\n",
    "\n",
    "train_loader = torch.utils.data.DataLoader(train_data, batch_size = batch_size, shuffle = True)\n",
    "test_loader = torch.utils.data.DataLoader(test_data, batch_size = batch_size)"
   ]
  },
  {
   "cell_type": "markdown",
   "id": "d5eb5897",
   "metadata": {},
   "source": [
    "## Model"
   ]
  },
  {
   "cell_type": "code",
   "execution_count": 19,
   "id": "a116ffda",
   "metadata": {},
   "outputs": [],
   "source": [
    "from torch import nn"
   ]
  },
  {
   "cell_type": "markdown",
   "id": "a26b084a",
   "metadata": {},
   "source": [
    "### MLP with hyper parameters (ModuleList)"
   ]
  },
  {
   "cell_type": "code",
   "execution_count": 20,
   "id": "53c4cec7",
   "metadata": {},
   "outputs": [],
   "source": [
    "class MLP_h(nn.Module):\n",
    "    def __init__(self, hidden_units = [512, 256, 128, 64]) :\n",
    "        super(MLP_h, self).__init__()\n",
    "        \n",
    "        self.in_dim = 28*28 # MNIST\n",
    "        self.out_dim = 10\n",
    "        \n",
    "        self.hidden_units = [self.in_dim] + hidden_units + [self.out_dim]\n",
    "        # fc1~5 : (in_dim, 512), (512, 256), (256, 128), (128, 64), (64, out_dim)\n",
    "        self.l_layers = nn.ModuleList([nn.Linear(self.hidden_units[i], self.hidden_units[i+1]) for i in range(len(self.hidden_units)-1)])\n",
    "        #\n",
    "        \n",
    "        self.relu = nn.ReLU()\n",
    "        self.log_softmax = nn.LogSoftmax()\n",
    "        \n",
    "    def forward(self, x):\n",
    "        a = x.view(-1, self.in_dim)\n",
    "        \n",
    "        for i, l in enumerate(self.l_layers):\n",
    "            z = l(a)\n",
    "            if i == len(self.l_layers) - 1:\n",
    "                logit = a\n",
    "            else:\n",
    "                a = self.relu(z)\n",
    "                \n",
    "        return logit"
   ]
  },
  {
   "cell_type": "markdown",
   "id": "cf6d42ba",
   "metadata": {},
   "source": [
    "## Train & Test"
   ]
  },
  {
   "cell_type": "code",
   "execution_count": 21,
   "id": "0666171a",
   "metadata": {},
   "outputs": [],
   "source": [
    "from torch import optim"
   ]
  },
  {
   "cell_type": "code",
   "execution_count": 24,
   "id": "c6b98686",
   "metadata": {
    "scrolled": true
   },
   "outputs": [
    {
     "data": {
      "image/png": "[encoded data removed]",
      "text/plain": [
       "<Figure size 432x288 with 1 Axes>"
      ]
     },
     "metadata": {
      "needs_background": "light"
     },
     "output_type": "display_data"
    },
    {
     "name": "stdout",
     "output_type": "stream",
     "text": [
      "[tensor(0.9206), tensor(0.9697), tensor(0.9759), tensor(0.8801), tensor(0.9779), tensor(0.7854)]\n"
     ]
    }
   ],
   "source": [
    "import matplotlib.pyplot as plt\n",
    "\n",
    "n_of_layers = [[512], # 2 layers\n",
    "              [512, 256], # 3 layers\n",
    "              [512, 256, 128], # 4 layers\n",
    "              [512, 256, 128, 64],  # 5 layers\n",
    "              [512, 256, 128, 64, 32],  # 6 layers\n",
    "              [512, 256, 128, 64, 32, 16]  # 7 layers\n",
    "              ]\n",
    "\n",
    "accuracy = []\n",
    "# 레이어 2, 3, 4, 5...개를 가지는 모델을 만들어 반복\n",
    "for layers_ in n_of_layers:\n",
    "    # 모델 생성\n",
    "    model = MLP_h(layers_)\n",
    "    criterion = nn.CrossEntropyLoss()\n",
    "    optimizer = optim.SGD(model.parameters(), lr = 0.01)\n",
    "    \n",
    "    # Training\n",
    "    for epoch in range(10):\n",
    "        running_loss = 0.0\n",
    "        for i, data in enumerate(train_loader, 0):\n",
    "            inputs, labels = data\n",
    "\n",
    "            optimizer.zero_grad()\n",
    "\n",
    "            outputs = model(inputs)\n",
    "            loss = criterion(outputs, labels)\n",
    "            loss.backward()\n",
    "            optimizer.step()\n",
    "\n",
    "            running_loss += loss.item()\n",
    "        \n",
    "    # Accurancy 측정\n",
    "    n_predict = 0\n",
    "    n_correct = 0\n",
    "\n",
    "    for data in test_loader:\n",
    "        inputs, labels = data\n",
    "        outputs = model(inputs)\n",
    "        _, predicted = torch.max(outputs, 1)\n",
    "\n",
    "        n_predict += len(predicted)\n",
    "        n_correct += (labels == predicted).sum()\n",
    "\n",
    "    # 그래프를 그리기 위해 추가\n",
    "    accuracy.append(n_correct/n_predict)\n",
    "            \n",
    "plt.plot([2, 3, 4, 5, 6, 7], accuracy)\n",
    "plt.title('accuracy vs. number of layers')\n",
    "plt.ylabel('accuracy')\n",
    "plt.xlabel('# layers')\n",
    "plt.show()\n",
    "\n",
    "print(accuracy)"
   ]
  }
 ],
 "metadata": {
  "kernelspec": {
   "display_name": "Python 3 (ipykernel)",
   "language": "python",
   "name": "python3"
  },
  "language_info": {
   "codemirror_mode": {
    "name": "ipython",
    "version": 3
   },
   "file_extension": ".py",
   "mimetype": "text/x-python",
   "name": "python",
   "nbconvert_exporter": "python",
   "pygments_lexer": "ipython3",
   "version": "3.8.13"
  }
 },
 "nbformat": 4,
 "nbformat_minor": 5
}
