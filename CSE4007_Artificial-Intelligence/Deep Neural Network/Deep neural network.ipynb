{
 "cells": [
  {
   "cell_type": "markdown",
   "id": "72c24af2",
   "metadata": {},
   "source": [
    "# Deep Neural Network, DNN"
   ]
  },
  {
   "cell_type": "code",
   "execution_count": 2,
   "id": "6d23c6c8",
   "metadata": {},
   "outputs": [],
   "source": [
    "import torch\n",
    "import torchvision\n",
    "import numpy as np"
   ]
  },
  {
   "cell_type": "markdown",
   "id": "a96d7a8b",
   "metadata": {},
   "source": [
    "## Data loading"
   ]
  },
  {
   "cell_type": "code",
   "execution_count": 5,
   "id": "20100342",
   "metadata": {},
   "outputs": [],
   "source": [
    "from torchvision import datasets\n",
    "from torchvision import transforms"
   ]
  },
  {
   "cell_type": "code",
   "execution_count": 16,
   "id": "a5b802a2",
   "metadata": {},
   "outputs": [],
   "source": [
    "batch_size = 12\n",
    "\n",
    "train_data = datasets.MNIST('./data/', train = True, download = True, transform = transforms.ToTensor())\n",
    "test_data = datasets.MNIST('./data/', train = False, download = True, transform = transforms.ToTensor())\n",
    "\n",
    "train_loader = torch.utils.data.DataLoader(train_data, batch_size = batch_size, shuffle = True)\n",
    "test_loader = torch.utils.data.DataLoader(test_data, batch_size = batch_size)"
   ]
  },
  {
   "cell_type": "markdown",
   "id": "d5eb5897",
   "metadata": {},
   "source": [
    "## Model"
   ]
  },
  {
   "cell_type": "code",
   "execution_count": 10,
   "id": "a116ffda",
   "metadata": {},
   "outputs": [],
   "source": [
    "from torch import nn"
   ]
  },
  {
   "cell_type": "code",
   "execution_count": 11,
   "id": "71e82b7e",
   "metadata": {},
   "outputs": [],
   "source": [
    "class MLP(nn.Module):\n",
    "    def __init__(self):\n",
    "        super().__init__()\n",
    "        \n",
    "        self.in_dim = 28*28 # MNIST\n",
    "        self.out_dim = 10\n",
    "        \n",
    "        self.fc1 = nn.Linear(self.in_dim, 512)\n",
    "        self.fc2 = nn.Linear(512, 256)\n",
    "        self.fc3 = nn.Linear(256, 128)\n",
    "        self.fc4 = nn.Linear(128, 64)\n",
    "        self.fc5 = nn.Linear(64, self.out_dim)\n",
    "        \n",
    "        self.relu = nn.ReLU()\n",
    "        self.log_softmax = nn.LogSoftmax()\n",
    "        \n",
    "    def forward(self, x):\n",
    "        a1 = self.relu(self.fc1(x.view(-1, self.in_dim)))\n",
    "        a2 = self.relu(self.fc2(a1))\n",
    "        a3 = self.relu(self.fc3(a2))\n",
    "        a4 = self.relu(self.fc4(a3))\n",
    "        logit = self.fc5(a4)\n",
    "        return logit"
   ]
  },
  {
   "cell_type": "markdown",
   "id": "ae1ef4cb",
   "metadata": {},
   "source": [
    "## Train"
   ]
  },
  {
   "cell_type": "code",
   "execution_count": 13,
   "id": "0666171a",
   "metadata": {},
   "outputs": [],
   "source": [
    "from torch import optim"
   ]
  },
  {
   "cell_type": "code",
   "execution_count": 17,
   "id": "917cb568",
   "metadata": {},
   "outputs": [],
   "source": [
    "model = MLP()\n",
    "criterion = nn.CrossEntropyLoss()\n",
    "optimizer = optim.SGD(model.parameters(), lr = 0.01)"
   ]
  },
  {
   "cell_type": "code",
   "execution_count": 18,
   "id": "c16a72c1",
   "metadata": {},
   "outputs": [
    {
     "name": "stdout",
     "output_type": "stream",
     "text": [
      "[1,  2000] loss: 2.222\n",
      "[1,  4000] loss: 0.734\n",
      "[2,  2000] loss: 0.314\n",
      "[2,  4000] loss: 0.249\n",
      "[3,  2000] loss: 0.164\n",
      "[3,  4000] loss: 0.142\n",
      "[4,  2000] loss: 0.111\n",
      "[4,  4000] loss: 0.103\n",
      "[5,  2000] loss: 0.079\n",
      "[5,  4000] loss: 0.078\n",
      "[6,  2000] loss: 0.058\n",
      "[6,  4000] loss: 0.062\n",
      "[7,  2000] loss: 0.047\n",
      "[7,  4000] loss: 0.050\n",
      "[8,  2000] loss: 0.038\n",
      "[8,  4000] loss: 0.039\n",
      "[9,  2000] loss: 0.030\n",
      "[9,  4000] loss: 0.035\n",
      "[10,  2000] loss: 0.020\n",
      "[10,  4000] loss: 0.029\n",
      "Finished Training\n"
     ]
    }
   ],
   "source": [
    "for epoch in range(10):\n",
    "    running_loss = 0.0\n",
    "    for i, data in enumerate(train_loader, 0):\n",
    "        inputs, labels = data\n",
    "        \n",
    "        optimizer.zero_grad()\n",
    "        \n",
    "        outputs = model(inputs)\n",
    "        loss = criterion(outputs, labels)\n",
    "        loss.backward()\n",
    "        optimizer.step()\n",
    "        \n",
    "        running_loss += loss.item()\n",
    "        if (i+1) % 2000 == 0:\n",
    "            print('[%d, %5d] loss: %.3f' %\n",
    "                 (epoch+1, i+1, running_loss/2000))\n",
    "            running_loss = 0.0\n",
    "            \n",
    "print('Finished Training')"
   ]
  },
  {
   "cell_type": "markdown",
   "id": "cf6d42ba",
   "metadata": {},
   "source": [
    "## Test"
   ]
  },
  {
   "cell_type": "code",
   "execution_count": 22,
   "id": "4c23b84f",
   "metadata": {},
   "outputs": [],
   "source": [
    "import matplotlib.pyplot as plt\n",
    "\n",
    "def imshow(img):\n",
    "    npimg = img.numpy()\n",
    "    plt.imshow(np.transpose(npimg, (1, 2, 0)))\n",
    "    plt.show()"
   ]
  },
  {
   "cell_type": "code",
   "execution_count": 23,
   "id": "6e4e77ab",
   "metadata": {},
   "outputs": [
    {
     "data": {
      "image/png": "[encoded data removed]",
      "text/plain": [
       "<Figure size 432x288 with 1 Axes>"
      ]
     },
     "metadata": {
      "needs_background": "light"
     },
     "output_type": "display_data"
    },
    {
     "name": "stdout",
     "output_type": "stream",
     "text": [
      "GroundTruth\n",
      "   7   2   1   0   4   1   4   9   5   9   0   6\n",
      "Prediction\n",
      "   7   2   1   0   4   1   4   9   5   9   0   6\n"
     ]
    }
   ],
   "source": [
    "dataiter = iter(test_loader)\n",
    "images, labels = dataiter.next()\n",
    "\n",
    "imshow(torchvision.utils.make_grid(images, nrow = batch_size))\n",
    "print('GroundTruth')\n",
    "print(\" \" + ' '.join('%3s' % label.item() for label in labels))\n",
    "\n",
    "outputs = model(images)\n",
    "_, predicted = torch.max(outputs, 1)\n",
    "print(\"Prediction\")\n",
    "print(\" \" + ' '.join('%3s' % label.item() for label in predicted))"
   ]
  },
  {
   "cell_type": "code",
   "execution_count": 24,
   "id": "da3a4385",
   "metadata": {},
   "outputs": [
    {
     "name": "stdout",
     "output_type": "stream",
     "text": [
      "9791/10000\n",
      "Accuracy: 0.979\n"
     ]
    }
   ],
   "source": [
    "# Accurancy\n",
    "\n",
    "n_predict = 0\n",
    "n_correct = 0\n",
    "\n",
    "for data in test_loader:\n",
    "    inputs, labels = data\n",
    "    outputs = model(inputs)\n",
    "    _, predicted = torch.max(outputs, 1)\n",
    "    \n",
    "    n_predict += len(predicted)\n",
    "    n_correct += (labels == predicted).sum()\n",
    "    \n",
    "print(f\"{n_correct}/{n_predict}\")\n",
    "print(f\"Accuracy: {n_correct/n_predict:.3f}\")"
   ]
  }
 ],
 "metadata": {
  "kernelspec": {
   "display_name": "Python 3 (ipykernel)",
   "language": "python",
   "name": "python3"
  },
  "language_info": {
   "codemirror_mode": {
    "name": "ipython",
    "version": 3
   },
   "file_extension": ".py",
   "mimetype": "text/x-python",
   "name": "python",
   "nbconvert_exporter": "python",
   "pygments_lexer": "ipython3",
   "version": "3.8.13"
  }
 },
 "nbformat": 4,
 "nbformat_minor": 5
}
