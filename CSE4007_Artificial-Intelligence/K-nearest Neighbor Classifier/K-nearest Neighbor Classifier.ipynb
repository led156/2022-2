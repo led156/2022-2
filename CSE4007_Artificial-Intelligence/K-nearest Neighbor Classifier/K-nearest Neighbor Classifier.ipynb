{
 "cells": [
  {
   "cell_type": "markdown",
   "id": "314acf0f",
   "metadata": {},
   "source": [
    "# K-nearest Neighbor Classifier (KNN)"
   ]
  },
  {
   "cell_type": "markdown",
   "id": "328ccf79",
   "metadata": {},
   "source": [
    "## Import Libraries"
   ]
  },
  {
   "cell_type": "code",
   "execution_count": 21,
   "id": "e0fda5a6",
   "metadata": {},
   "outputs": [],
   "source": [
    "import pandas as pd\n",
    "from sklearn.model_selection import cross_val_score\n",
    "from sklearn.model_selection import KFold\n",
    "from sklearn.neighbors import KNeighborsClassifier"
   ]
  },
  {
   "cell_type": "markdown",
   "id": "fe525376",
   "metadata": {},
   "source": [
    "## Open the Dataset"
   ]
  },
  {
   "cell_type": "code",
   "execution_count": 22,
   "id": "1c3f1cc7",
   "metadata": {
    "scrolled": true
   },
   "outputs": [
    {
     "data": {
      "text/html": [
       "<div>\n",
       "<style scoped>\n",
       "    .dataframe tbody tr th:only-of-type {\n",
       "        vertical-align: middle;\n",
       "    }\n",
       "\n",
       "    .dataframe tbody tr th {\n",
       "        vertical-align: top;\n",
       "    }\n",
       "\n",
       "    .dataframe thead th {\n",
       "        text-align: right;\n",
       "    }\n",
       "</style>\n",
       "<table border=\"1\" class=\"dataframe\">\n",
       "  <thead>\n",
       "    <tr style=\"text-align: right;\">\n",
       "      <th></th>\n",
       "      <th>RI</th>\n",
       "      <th>Na</th>\n",
       "      <th>Mg</th>\n",
       "      <th>Al</th>\n",
       "      <th>Si</th>\n",
       "      <th>K</th>\n",
       "      <th>Ca</th>\n",
       "      <th>Ba</th>\n",
       "      <th>Fe</th>\n",
       "      <th>Type</th>\n",
       "    </tr>\n",
       "  </thead>\n",
       "  <tbody>\n",
       "    <tr>\n",
       "      <th>0</th>\n",
       "      <td>1.51793</td>\n",
       "      <td>12.79</td>\n",
       "      <td>3.50</td>\n",
       "      <td>1.12</td>\n",
       "      <td>73.03</td>\n",
       "      <td>0.64</td>\n",
       "      <td>8.77</td>\n",
       "      <td>0.0</td>\n",
       "      <td>0.00</td>\n",
       "      <td>'build wind float'</td>\n",
       "    </tr>\n",
       "    <tr>\n",
       "      <th>1</th>\n",
       "      <td>1.51643</td>\n",
       "      <td>12.16</td>\n",
       "      <td>3.52</td>\n",
       "      <td>1.35</td>\n",
       "      <td>72.89</td>\n",
       "      <td>0.57</td>\n",
       "      <td>8.53</td>\n",
       "      <td>0.0</td>\n",
       "      <td>0.00</td>\n",
       "      <td>'vehic wind float'</td>\n",
       "    </tr>\n",
       "    <tr>\n",
       "      <th>2</th>\n",
       "      <td>1.51793</td>\n",
       "      <td>13.21</td>\n",
       "      <td>3.48</td>\n",
       "      <td>1.41</td>\n",
       "      <td>72.64</td>\n",
       "      <td>0.59</td>\n",
       "      <td>8.43</td>\n",
       "      <td>0.0</td>\n",
       "      <td>0.00</td>\n",
       "      <td>'build wind float'</td>\n",
       "    </tr>\n",
       "    <tr>\n",
       "      <th>3</th>\n",
       "      <td>1.51299</td>\n",
       "      <td>14.40</td>\n",
       "      <td>1.74</td>\n",
       "      <td>1.54</td>\n",
       "      <td>74.55</td>\n",
       "      <td>0.00</td>\n",
       "      <td>7.59</td>\n",
       "      <td>0.0</td>\n",
       "      <td>0.00</td>\n",
       "      <td>tableware</td>\n",
       "    </tr>\n",
       "    <tr>\n",
       "      <th>4</th>\n",
       "      <td>1.53393</td>\n",
       "      <td>12.30</td>\n",
       "      <td>0.00</td>\n",
       "      <td>1.00</td>\n",
       "      <td>70.16</td>\n",
       "      <td>0.12</td>\n",
       "      <td>16.19</td>\n",
       "      <td>0.0</td>\n",
       "      <td>0.24</td>\n",
       "      <td>'build wind non-float'</td>\n",
       "    </tr>\n",
       "    <tr>\n",
       "      <th>...</th>\n",
       "      <td>...</td>\n",
       "      <td>...</td>\n",
       "      <td>...</td>\n",
       "      <td>...</td>\n",
       "      <td>...</td>\n",
       "      <td>...</td>\n",
       "      <td>...</td>\n",
       "      <td>...</td>\n",
       "      <td>...</td>\n",
       "      <td>...</td>\n",
       "    </tr>\n",
       "    <tr>\n",
       "      <th>209</th>\n",
       "      <td>1.51610</td>\n",
       "      <td>13.42</td>\n",
       "      <td>3.40</td>\n",
       "      <td>1.22</td>\n",
       "      <td>72.69</td>\n",
       "      <td>0.59</td>\n",
       "      <td>8.32</td>\n",
       "      <td>0.0</td>\n",
       "      <td>0.00</td>\n",
       "      <td>'vehic wind float'</td>\n",
       "    </tr>\n",
       "    <tr>\n",
       "      <th>210</th>\n",
       "      <td>1.51592</td>\n",
       "      <td>12.86</td>\n",
       "      <td>3.52</td>\n",
       "      <td>2.12</td>\n",
       "      <td>72.66</td>\n",
       "      <td>0.69</td>\n",
       "      <td>7.97</td>\n",
       "      <td>0.0</td>\n",
       "      <td>0.00</td>\n",
       "      <td>'build wind non-float'</td>\n",
       "    </tr>\n",
       "    <tr>\n",
       "      <th>211</th>\n",
       "      <td>1.51613</td>\n",
       "      <td>13.92</td>\n",
       "      <td>3.52</td>\n",
       "      <td>1.25</td>\n",
       "      <td>72.88</td>\n",
       "      <td>0.37</td>\n",
       "      <td>7.94</td>\n",
       "      <td>0.0</td>\n",
       "      <td>0.14</td>\n",
       "      <td>'build wind non-float'</td>\n",
       "    </tr>\n",
       "    <tr>\n",
       "      <th>212</th>\n",
       "      <td>1.51689</td>\n",
       "      <td>12.67</td>\n",
       "      <td>2.88</td>\n",
       "      <td>1.71</td>\n",
       "      <td>73.21</td>\n",
       "      <td>0.73</td>\n",
       "      <td>8.54</td>\n",
       "      <td>0.0</td>\n",
       "      <td>0.00</td>\n",
       "      <td>'build wind non-float'</td>\n",
       "    </tr>\n",
       "    <tr>\n",
       "      <th>213</th>\n",
       "      <td>1.51852</td>\n",
       "      <td>14.09</td>\n",
       "      <td>2.19</td>\n",
       "      <td>1.66</td>\n",
       "      <td>72.67</td>\n",
       "      <td>0.00</td>\n",
       "      <td>9.32</td>\n",
       "      <td>0.0</td>\n",
       "      <td>0.00</td>\n",
       "      <td>tableware</td>\n",
       "    </tr>\n",
       "  </tbody>\n",
       "</table>\n",
       "<p>214 rows × 10 columns</p>\n",
       "</div>"
      ],
      "text/plain": [
       "          RI     Na    Mg    Al     Si     K     Ca   Ba    Fe  \\\n",
       "0    1.51793  12.79  3.50  1.12  73.03  0.64   8.77  0.0  0.00   \n",
       "1    1.51643  12.16  3.52  1.35  72.89  0.57   8.53  0.0  0.00   \n",
       "2    1.51793  13.21  3.48  1.41  72.64  0.59   8.43  0.0  0.00   \n",
       "3    1.51299  14.40  1.74  1.54  74.55  0.00   7.59  0.0  0.00   \n",
       "4    1.53393  12.30  0.00  1.00  70.16  0.12  16.19  0.0  0.24   \n",
       "..       ...    ...   ...   ...    ...   ...    ...  ...   ...   \n",
       "209  1.51610  13.42  3.40  1.22  72.69  0.59   8.32  0.0  0.00   \n",
       "210  1.51592  12.86  3.52  2.12  72.66  0.69   7.97  0.0  0.00   \n",
       "211  1.51613  13.92  3.52  1.25  72.88  0.37   7.94  0.0  0.14   \n",
       "212  1.51689  12.67  2.88  1.71  73.21  0.73   8.54  0.0  0.00   \n",
       "213  1.51852  14.09  2.19  1.66  72.67  0.00   9.32  0.0  0.00   \n",
       "\n",
       "                       Type  \n",
       "0        'build wind float'  \n",
       "1        'vehic wind float'  \n",
       "2        'build wind float'  \n",
       "3                 tableware  \n",
       "4    'build wind non-float'  \n",
       "..                      ...  \n",
       "209      'vehic wind float'  \n",
       "210  'build wind non-float'  \n",
       "211  'build wind non-float'  \n",
       "212  'build wind non-float'  \n",
       "213               tableware  \n",
       "\n",
       "[214 rows x 10 columns]"
      ]
     },
     "execution_count": 22,
     "metadata": {},
     "output_type": "execute_result"
    }
   ],
   "source": [
    "df = pd.read_csv('glass.csv')\n",
    "df"
   ]
  },
  {
   "cell_type": "markdown",
   "id": "fb51ad0f",
   "metadata": {},
   "source": [
    "## Data Preprocessing"
   ]
  },
  {
   "cell_type": "code",
   "execution_count": 23,
   "id": "25388316",
   "metadata": {},
   "outputs": [
    {
     "name": "stdout",
     "output_type": "stream",
     "text": [
      "[[1.51793 12.79 3.5 ... 8.77 0.0 0.0]\n",
      " [1.51643 12.16 3.52 ... 8.53 0.0 0.0]\n",
      " [1.51793 13.21 3.48 ... 8.43 0.0 0.0]\n",
      " ...\n",
      " [1.51613 13.92 3.52 ... 7.94 0.0 0.14]\n",
      " [1.51689 12.67 2.88 ... 8.54 0.0 0.0]\n",
      " [1.51852 14.09 2.19 ... 9.32 0.0 0.0]]\n",
      "[\"'build wind float'\" \"'vehic wind float'\" \"'build wind float'\"\n",
      " 'tableware' \"'build wind non-float'\" \"'build wind non-float'\"\n",
      " \"'vehic wind float'\" \"'build wind float'\" 'headlamps'\n",
      " \"'build wind non-float'\" \"'build wind non-float'\"\n",
      " \"'build wind non-float'\" \"'build wind float'\" \"'vehic wind float'\"\n",
      " \"'vehic wind float'\" \"'build wind non-float'\" 'headlamps'\n",
      " \"'build wind non-float'\" 'containers' \"'build wind non-float'\"\n",
      " \"'build wind float'\" \"'build wind non-float'\" \"'build wind non-float'\"\n",
      " \"'build wind float'\" 'containers' \"'build wind non-float'\"\n",
      " \"'build wind non-float'\" 'headlamps' \"'build wind non-float'\"\n",
      " \"'vehic wind float'\" \"'build wind non-float'\" \"'vehic wind float'\"\n",
      " 'tableware' \"'build wind non-float'\" \"'build wind float'\"\n",
      " \"'build wind float'\" \"'build wind float'\" \"'build wind non-float'\"\n",
      " \"'build wind non-float'\" \"'build wind non-float'\" \"'build wind float'\"\n",
      " \"'build wind non-float'\" \"'build wind non-float'\"\n",
      " \"'build wind non-float'\" \"'vehic wind float'\" \"'build wind float'\"\n",
      " 'containers' \"'build wind float'\" \"'build wind float'\"\n",
      " \"'build wind non-float'\" \"'build wind float'\" \"'build wind non-float'\"\n",
      " \"'build wind float'\" \"'build wind non-float'\" 'headlamps'\n",
      " \"'build wind float'\" 'headlamps' \"'build wind float'\"\n",
      " \"'vehic wind float'\" \"'build wind non-float'\" \"'build wind non-float'\"\n",
      " \"'build wind float'\" \"'build wind float'\" \"'build wind float'\"\n",
      " \"'build wind float'\" 'headlamps' \"'build wind float'\"\n",
      " \"'vehic wind float'\" \"'build wind non-float'\" \"'build wind float'\"\n",
      " 'tableware' \"'build wind non-float'\" 'tableware' \"'build wind non-float'\"\n",
      " \"'build wind float'\" \"'build wind non-float'\" \"'build wind float'\"\n",
      " \"'build wind float'\" \"'vehic wind float'\" \"'build wind float'\"\n",
      " \"'build wind float'\" \"'build wind float'\" \"'vehic wind float'\"\n",
      " \"'build wind float'\" 'containers' \"'build wind non-float'\"\n",
      " \"'build wind non-float'\" \"'build wind float'\" \"'build wind float'\"\n",
      " \"'build wind non-float'\" 'headlamps' \"'build wind float'\"\n",
      " \"'build wind float'\" 'tableware' 'headlamps' \"'build wind float'\"\n",
      " 'headlamps' \"'build wind non-float'\" \"'build wind non-float'\"\n",
      " \"'build wind non-float'\" \"'build wind float'\" \"'build wind non-float'\"\n",
      " 'headlamps' 'headlamps' 'headlamps' 'containers' \"'build wind non-float'\"\n",
      " 'headlamps' \"'build wind float'\" 'containers' \"'build wind non-float'\"\n",
      " 'headlamps' \"'build wind float'\" 'headlamps' \"'vehic wind float'\"\n",
      " 'headlamps' \"'build wind non-float'\" 'headlamps' \"'build wind non-float'\"\n",
      " \"'build wind float'\" \"'build wind non-float'\" \"'build wind float'\"\n",
      " \"'build wind non-float'\" \"'build wind non-float'\" 'containers'\n",
      " \"'build wind float'\" 'headlamps' 'headlamps' \"'build wind float'\"\n",
      " \"'build wind float'\" \"'build wind non-float'\" \"'build wind non-float'\"\n",
      " 'headlamps' \"'build wind float'\" 'containers' \"'build wind float'\"\n",
      " \"'build wind float'\" \"'build wind non-float'\" \"'build wind float'\"\n",
      " \"'build wind non-float'\" \"'build wind float'\" \"'build wind float'\"\n",
      " \"'build wind float'\" 'containers' \"'build wind non-float'\"\n",
      " \"'build wind non-float'\" \"'build wind non-float'\"\n",
      " \"'build wind non-float'\" \"'build wind non-float'\"\n",
      " \"'build wind non-float'\" 'headlamps' \"'build wind float'\"\n",
      " \"'build wind non-float'\" \"'build wind non-float'\" \"'vehic wind float'\"\n",
      " \"'build wind float'\" 'headlamps' 'containers' \"'build wind float'\"\n",
      " \"'build wind non-float'\" \"'build wind non-float'\" \"'build wind float'\"\n",
      " 'headlamps' 'containers' \"'build wind non-float'\" \"'build wind float'\"\n",
      " \"'build wind float'\" \"'build wind non-float'\" \"'build wind non-float'\"\n",
      " 'headlamps' \"'build wind non-float'\" \"'build wind non-float'\"\n",
      " \"'build wind float'\" 'headlamps' \"'build wind float'\" 'headlamps'\n",
      " \"'build wind float'\" \"'build wind float'\" 'containers' 'tableware'\n",
      " \"'build wind non-float'\" \"'build wind non-float'\" \"'vehic wind float'\"\n",
      " \"'build wind non-float'\" \"'build wind float'\" 'headlamps'\n",
      " \"'build wind float'\" \"'build wind float'\" \"'vehic wind float'\"\n",
      " 'containers' \"'build wind float'\" \"'build wind float'\" 'tableware'\n",
      " 'headlamps' 'tableware' \"'build wind non-float'\" \"'build wind non-float'\"\n",
      " \"'build wind non-float'\" \"'build wind non-float'\"\n",
      " \"'build wind non-float'\" \"'build wind non-float'\" \"'build wind float'\"\n",
      " \"'vehic wind float'\" \"'build wind float'\" \"'build wind non-float'\"\n",
      " \"'build wind float'\" 'headlamps' \"'build wind float'\"\n",
      " \"'build wind float'\" \"'vehic wind float'\" \"'build wind non-float'\"\n",
      " \"'build wind non-float'\" \"'build wind non-float'\" 'tableware']\n"
     ]
    }
   ],
   "source": [
    "X = df.values[:, :-1]\n",
    "y = df.values[:, -1]\n",
    "print(X)\n",
    "print(y)"
   ]
  },
  {
   "cell_type": "markdown",
   "id": "88b390f2",
   "metadata": {},
   "source": [
    "## Changing Model Parameters"
   ]
  },
  {
   "cell_type": "code",
   "execution_count": 24,
   "id": "1e849ccc",
   "metadata": {},
   "outputs": [],
   "source": [
    "clf = KNeighborsClassifier(n_neighbors=10,\n",
    "                          weights='uniform',\n",
    "                          metric='euclidean')"
   ]
  },
  {
   "cell_type": "markdown",
   "id": "266fb311",
   "metadata": {},
   "source": [
    "## K-fold Cross-validation"
   ]
  },
  {
   "cell_type": "code",
   "execution_count": 25,
   "id": "8fe8f04f",
   "metadata": {},
   "outputs": [
    {
     "name": "stdout",
     "output_type": "stream",
     "text": [
      "0.6199134199134199\n"
     ]
    }
   ],
   "source": [
    "cv = KFold(n_splits=10,\n",
    "          shuffle=True,\n",
    "          random_state=0)\n",
    "cv_results = cross_val_score(clf, X, y, cv=cv)\n",
    "\n",
    "print(cv_results.mean())"
   ]
  },
  {
   "cell_type": "markdown",
   "id": "49449626",
   "metadata": {},
   "source": [
    "## Prediction with KNN"
   ]
  },
  {
   "cell_type": "code",
   "execution_count": 26,
   "id": "bc726a88",
   "metadata": {},
   "outputs": [
    {
     "name": "stdout",
     "output_type": "stream",
     "text": [
      "[\"'build wind non-float'\"]\n"
     ]
    }
   ],
   "source": [
    "clf.fit(X, y) # 학습\n",
    "pred_y = clf.predict([[1.5, 13, 1.5, 1.5, 70, 0.5, 8.9, 0.1, 0.2]]) # Testing\n",
    "print(pred_y)"
   ]
  },
  {
   "cell_type": "markdown",
   "id": "471febf1",
   "metadata": {},
   "source": [
    "## Comparison with Varying k"
   ]
  },
  {
   "cell_type": "code",
   "execution_count": 27,
   "id": "a8361a54",
   "metadata": {},
   "outputs": [
    {
     "name": "stdout",
     "output_type": "stream",
     "text": [
      "20 neighbors: 0.6155844155844156\n",
      "5 neighbors: 0.648051948051948\n",
      "1 neighbors: 0.7370129870129871\n"
     ]
    }
   ],
   "source": [
    "# Varying the number of neighbors\n",
    "clf = KNeighborsClassifier(n_neighbors=20, weights='uniform')\n",
    "clf2 = KNeighborsClassifier(n_neighbors=5, weights='uniform')\n",
    "clf3 = KNeighborsClassifier(n_neighbors=1, weights='uniform')\n",
    "\n",
    "results = cross_val_score(clf, X, y, cv=cv)\n",
    "results2 = cross_val_score(clf2, X, y, cv=cv)\n",
    "results3 = cross_val_score(clf3, X, y, cv=cv)\n",
    "\n",
    "print(\"20 neighbors: {}\".format(results.mean()))\n",
    "print(\"5 neighbors: {}\".format(results2.mean()))\n",
    "print(\"1 neighbors: {}\".format(results3.mean()))\n",
    "\n",
    "# 항상 k를 늘리는 것이 좋은 생각은 아닙니다."
   ]
  }
 ],
 "metadata": {
  "kernelspec": {
   "display_name": "Python 3 (ipykernel)",
   "language": "python",
   "name": "python3"
  },
  "language_info": {
   "codemirror_mode": {
    "name": "ipython",
    "version": 3
   },
   "file_extension": ".py",
   "mimetype": "text/x-python",
   "name": "python",
   "nbconvert_exporter": "python",
   "pygments_lexer": "ipython3",
   "version": "3.8.13"
  }
 },
 "nbformat": 4,
 "nbformat_minor": 5
}
