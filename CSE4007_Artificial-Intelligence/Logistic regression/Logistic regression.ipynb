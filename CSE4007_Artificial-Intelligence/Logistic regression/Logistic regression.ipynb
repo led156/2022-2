{
 "cells": [
  {
   "cell_type": "markdown",
   "id": "49e7d29b",
   "metadata": {},
   "source": [
    "# Homework2\n",
    "## 2020062324 이은비"
   ]
  },
  {
   "cell_type": "code",
   "execution_count": 71,
   "id": "56625667",
   "metadata": {},
   "outputs": [],
   "source": [
    "import numpy as np"
   ]
  },
  {
   "cell_type": "markdown",
   "id": "f3c26fad",
   "metadata": {},
   "source": [
    "## Model"
   ]
  },
  {
   "cell_type": "code",
   "execution_count": 72,
   "id": "96acff21",
   "metadata": {},
   "outputs": [],
   "source": [
    "class logistic_regression_model():\n",
    "    def __init__(self):\n",
    "        self.w = np.random.normal(size = 2)\n",
    "        self.b = np.random.normal(size = 1)\n",
    "        \n",
    "    def sigmoid(self, z):\n",
    "        return 1/(1+np.exp(-z))\n",
    "    \n",
    "    def predict(self, x):\n",
    "        z = np.inner(self.w, x) + self.b\n",
    "        a = self.sigmoid(z)\n",
    "        return a"
   ]
  },
  {
   "cell_type": "markdown",
   "id": "f1b6f2aa",
   "metadata": {},
   "source": [
    "## Training"
   ]
  },
  {
   "cell_type": "code",
   "execution_count": 73,
   "id": "c1b22381",
   "metadata": {},
   "outputs": [],
   "source": [
    "def train(X, Y, model, lr = 0.1):\n",
    "    dw = np.array([0.0, 0.0])\n",
    "    db = 0.0\n",
    "    m = len(X)\n",
    "    cost = 0.0\n",
    "    for x, y in zip(X, Y):\n",
    "        a = model.predict(x)\n",
    "        if y == 1:\n",
    "            cost -= np.log(a) # -y*log{a} - 0 = -1*log{a}\n",
    "        else:\n",
    "            cost -= np.log(1-a) # 0 -(1-y)*log{1-a} = -1*log{1-a}\n",
    "            \n",
    "        dw += (a-y)*x # dw <- (dL)/(dw)\n",
    "        db += (a-y) # db <- (dL)/(db)\n",
    "        \n",
    "    # Loss합 -> Cost(Loss평균)\n",
    "    cost /= m\n",
    "    model.w -= lr * dw/m\n",
    "    model.b -= lr * db/m\n",
    "    \n",
    "    return cost"
   ]
  },
  {
   "cell_type": "markdown",
   "id": "82a10e8c",
   "metadata": {},
   "source": [
    "## Data preparation"
   ]
  },
  {
   "cell_type": "code",
   "execution_count": 74,
   "id": "d5275d5f",
   "metadata": {},
   "outputs": [],
   "source": [
    "X = np.array([[0.0, 0.0], [1.0, 0.0], [0.0, 1.0], [1.0, 1.0]])\n",
    "Y_and = np.array([0.0, 0.0, 0.0, 1.0])\n",
    "Y_or = np.array([0.0, 1.0, 1.0, 1.0])\n",
    "Y_xor = np.array([0.0, 1.0, 1.0, 0.0])"
   ]
  },
  {
   "cell_type": "markdown",
   "id": "754ef8bc",
   "metadata": {},
   "source": [
    "### AND - Loss plot & Testing(Predicted results)"
   ]
  },
  {
   "cell_type": "code",
   "execution_count": 75,
   "id": "9032a2cb",
   "metadata": {},
   "outputs": [
    {
     "name": "stdout",
     "output_type": "stream",
     "text": [
      "------ learning rate : 0.01 ------\n",
      "predicted [0, 0] : [0.00805353]\n",
      "predicted [0, 1] : [0.1470758]\n",
      "predicted [1, 0] : [0.14932854]\n",
      "predicted [1, 1] : [0.78850866]\n",
      "------ learning rate : 0.1 ------\n",
      "predicted [0, 0] : [1.24717222e-05]\n",
      "predicted [0, 1] : [0.02025116]\n",
      "predicted [1, 0] : [0.02025115]\n",
      "predicted [1, 1] : [0.97163613]\n",
      "------ learning rate : 0.5 ------\n",
      "predicted [0, 0] : [9.35208743e-08]\n",
      "predicted [0, 1] : [0.00403887]\n",
      "predicted [1, 0] : [0.00403887]\n",
      "predicted [1, 1] : [0.99434528]\n",
      "------ learning rate : 0.9 ------\n",
      "predicted [0, 0] : [1.57806416e-08]\n",
      "predicted [0, 1] : [0.00223645]\n",
      "predicted [1, 0] : [0.00223645]\n",
      "predicted [1, 1] : [0.99686888]\n"
     ]
    },
    {
     "data": {
      "image/png": "[encoded data removed]",
      "text/plain": [
       "<Figure size 432x288 with 1 Axes>"
      ]
     },
     "metadata": {
      "needs_background": "light"
     },
     "output_type": "display_data"
    }
   ],
   "source": [
    "import matplotlib.pyplot as plt\n",
    "\n",
    "for lr in [0.01, 0.1, 0.5, 0.9]:\n",
    "    model_and = logistic_regression_model()\n",
    "    cost_and = []\n",
    "    for epoch in range(10000):\n",
    "        cost = train(X, Y_and, model_and, lr)\n",
    "        if epoch %100 == 0:\n",
    "            cost_and.append(cost)\n",
    "    plt.plot(cost_and, label = \"lr \" + str(lr))\n",
    "    print('------ learning rate : '+ str(lr) + ' ------')\n",
    "    print('predicted [0, 0] : ' + str(model_and.predict(np.array([0, 0]))))\n",
    "    print('predicted [0, 1] : ' + str(model_and.predict(np.array([0, 1]))))\n",
    "    print('predicted [1, 0] : ' + str(model_and.predict(np.array([1, 0]))))\n",
    "    print('predicted [1, 1] : ' + str(model_and.predict(np.array([1, 1]))))\n",
    "plt.title('AND')\n",
    "plt.ylabel('Loss')\n",
    "plt.xlabel('epoch (10^2)')\n",
    "plt.legend(loc='upper right')\n",
    "plt.show()"
   ]
  },
  {
   "cell_type": "markdown",
   "id": "94881432",
   "metadata": {},
   "source": [
    "### OR - Loss plot & Testing(Predicted results)"
   ]
  },
  {
   "cell_type": "code",
   "execution_count": 76,
   "id": "257126e4",
   "metadata": {},
   "outputs": [
    {
     "name": "stdout",
     "output_type": "stream",
     "text": [
      "------ learning rate : 0.01 ------\n",
      "predicted [0, 0] : [0.18432744]\n",
      "predicted [0, 1] : [0.93115395]\n",
      "predicted [1, 0] : [0.92572248]\n",
      "predicted [1, 1] : [0.99866117]\n",
      "------ learning rate : 0.1 ------\n",
      "predicted [0, 0] : [0.02060545]\n",
      "predicted [0, 1] : [0.99177473]\n",
      "predicted [1, 0] : [0.99176611]\n",
      "predicted [1, 1] : [0.99999855]\n",
      "------ learning rate : 0.5 ------\n",
      "predicted [0, 0] : [0.00404285]\n",
      "predicted [0, 1] : [0.9983833]\n",
      "predicted [1, 0] : [0.99838331]\n",
      "predicted [1, 1] : [0.99999999]\n",
      "------ learning rate : 0.9 ------\n",
      "predicted [0, 0] : [0.00223473]\n",
      "predicted [0, 1] : [0.99910624]\n",
      "predicted [1, 0] : [0.99910624]\n",
      "predicted [1, 1] : [1.]\n"
     ]
    },
    {
     "data": {
      "image/png": "[encoded data removed]",
      "text/plain": [
       "<Figure size 432x288 with 1 Axes>"
      ]
     },
     "metadata": {
      "needs_background": "light"
     },
     "output_type": "display_data"
    }
   ],
   "source": [
    "for lr in [0.01, 0.1, 0.5, 0.9]:\n",
    "    model_or = logistic_regression_model()\n",
    "    cost_or = []\n",
    "    for epoch in range(10000):\n",
    "        cost = train(X, Y_or, model_or, lr)\n",
    "        if epoch %100 == 0:\n",
    "            cost_or.append(cost)\n",
    "    plt.plot(cost_or, label = \"lr \" + str(lr))\n",
    "    print('------ learning rate : '+ str(lr) + ' ------')\n",
    "    print('predicted [0, 0] : ' + str(model_or.predict(np.array([0, 0]))))\n",
    "    print('predicted [0, 1] : ' + str(model_or.predict(np.array([0, 1]))))\n",
    "    print('predicted [1, 0] : ' + str(model_or.predict(np.array([1, 0]))))\n",
    "    print('predicted [1, 1] : ' + str(model_or.predict(np.array([1, 1]))))\n",
    "plt.title('OR')\n",
    "plt.ylabel('Loss')\n",
    "plt.xlabel('epoch (10^2)')\n",
    "plt.legend(loc='upper right')\n",
    "plt.show()"
   ]
  },
  {
   "cell_type": "markdown",
   "id": "d0854486",
   "metadata": {},
   "source": [
    "### XOR - Loss plot & Testing(Predicted results)"
   ]
  },
  {
   "cell_type": "code",
   "execution_count": 77,
   "id": "22cdf2db",
   "metadata": {},
   "outputs": [
    {
     "name": "stdout",
     "output_type": "stream",
     "text": [
      "------ learning rate : 0.01 ------\n",
      "predicted [0, 0] : [0.50264951]\n",
      "predicted [0, 1] : [0.50030065]\n",
      "predicted [1, 0] : [0.50053094]\n",
      "predicted [1, 1] : [0.49818206]\n",
      "------ learning rate : 0.1 ------\n",
      "predicted [0, 0] : [0.5]\n",
      "predicted [0, 1] : [0.5]\n",
      "predicted [1, 0] : [0.5]\n",
      "predicted [1, 1] : [0.5]\n",
      "------ learning rate : 0.5 ------\n",
      "predicted [0, 0] : [0.5]\n",
      "predicted [0, 1] : [0.5]\n",
      "predicted [1, 0] : [0.5]\n",
      "predicted [1, 1] : [0.5]\n",
      "------ learning rate : 0.9 ------\n",
      "predicted [0, 0] : [0.5]\n",
      "predicted [0, 1] : [0.5]\n",
      "predicted [1, 0] : [0.5]\n",
      "predicted [1, 1] : [0.5]\n"
     ]
    },
    {
     "data": {
      "image/png": "[encoded data removed]",
      "text/plain": [
       "<Figure size 432x288 with 1 Axes>"
      ]
     },
     "metadata": {
      "needs_background": "light"
     },
     "output_type": "display_data"
    }
   ],
   "source": [
    "for lr in [0.01, 0.1, 0.5, 0.9]:\n",
    "    model_xor = logistic_regression_model()\n",
    "    cost_xor = []\n",
    "    for epoch in range(10000):\n",
    "        cost = train(X, Y_xor, model_xor, lr)\n",
    "        if epoch %100 == 0:\n",
    "            cost_xor.append(cost)\n",
    "    plt.plot(cost_xor, label = \"lr \" + str(lr))\n",
    "    print('------ learning rate : '+ str(lr) + ' ------')\n",
    "    print('predicted [0, 0] : ' + str(model_xor.predict(np.array([0, 0]))))\n",
    "    print('predicted [0, 1] : ' + str(model_xor.predict(np.array([0, 1]))))\n",
    "    print('predicted [1, 0] : ' + str(model_xor.predict(np.array([1, 0]))))\n",
    "    print('predicted [1, 1] : ' + str(model_xor.predict(np.array([1, 1]))))\n",
    "plt.title('XOR')\n",
    "plt.ylabel('Loss')\n",
    "plt.xlabel('epoch (10^2)')\n",
    "plt.legend(loc='upper right')\n",
    "plt.show()"
   ]
  }
 ],
 "metadata": {
  "kernelspec": {
   "display_name": "Python 3 (ipykernel)",
   "language": "python",
   "name": "python3"
  },
  "language_info": {
   "codemirror_mode": {
    "name": "ipython",
    "version": 3
   },
   "file_extension": ".py",
   "mimetype": "text/x-python",
   "name": "python",
   "nbconvert_exporter": "python",
   "pygments_lexer": "ipython3",
   "version": "3.8.13"
  }
 },
 "nbformat": 4,
 "nbformat_minor": 5
}
