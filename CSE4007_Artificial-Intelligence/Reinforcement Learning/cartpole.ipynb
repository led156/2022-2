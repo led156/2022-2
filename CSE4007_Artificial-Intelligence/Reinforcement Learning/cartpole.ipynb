{
 "cells": [
  {
   "cell_type": "markdown",
   "metadata": {},
   "source": [
    "# Solving Cart-Pole problem: Q-Learning"
   ]
  },
  {
   "cell_type": "markdown",
   "metadata": {},
   "source": [
    "# 1. Initializing environment Q-table"
   ]
  },
  {
   "cell_type": "code",
   "execution_count": 1,
   "metadata": {},
   "outputs": [],
   "source": [
    "from IPython.display import clear_output \n",
    "import matplotlib.pyplot as plt\n",
    "import numpy as np\n",
    "import gym\n",
    "import math\n",
    "import random\n",
    "# Initialize environment\n",
    "\n",
    "env = gym.make('CartPole-v1')\n",
    "# Number of discrete states (bucket) per state\n",
    "NUM_BUCKETS = (3, 3, 6, 6)  # (position, velocity, angle, angular velocity)\n",
    "# Number of discrete actions. in our case, there are only two possible actions: left, and right\n",
    "NUM_ACTIONS = env.action_space.n\n",
    "# Setting bounds for each discrete state. \n",
    "STATE_BOUNDS = list(zip(env.observation_space.low, env.observation_space.high))#state bound of Cart Position, Cart Velocity\n",
    "STATE_BOUNDS[1] = [-0.5, 0.5]#maximum velocity of the cart\n",
    "STATE_BOUNDS[3] = [-math.radians(50), math.radians(50)]#maximum angular velocity of the cart\n",
    "## Creating a Q-Table for each state-action pair\n",
    "q_table = np.zeros(NUM_BUCKETS + (NUM_ACTIONS,))"
   ]
  },
  {
   "cell_type": "markdown",
   "metadata": {},
   "source": [
    "# 2. Defining training related constants\n"
   ]
  },
  {
   "cell_type": "code",
   "execution_count": 2,
   "metadata": {},
   "outputs": [],
   "source": [
    "## Learning related constants\n",
    "MIN_EXPLORE_RATE = 0.01\n",
    "MIN_LEARNING_RATE = 0.1\n",
    "\n",
    "## Defining the simulation related constants\n",
    "NUM_EPISODES = 10000\n",
    "MAX_TIMESTEP = 250 # maximum possible timestep\n",
    "SOLVED_TIMESTEP = 199# the episode is considered as solved if t > 199\n",
    "STREAK_TO_END = 120 #the problem is considered as solved if the streak >120"
   ]
  },
  {
   "cell_type": "markdown",
   "metadata": {},
   "source": [
    "# 3. Decaying explore_rate and learning_rate implementation\n",
    "explore rate is the probability of taking random action\n",
    "\n",
    "learning rate determines the update speed of the q-value on the q-table\n",
    "\n",
    "with the functions below, both rate start as very high, then decay gradually as the episode goes"
   ]
  },
  {
   "cell_type": "code",
   "execution_count": 3,
   "metadata": {},
   "outputs": [],
   "source": [
    "DECAY = 25\n",
    "def get_explore_rate(episode):\n",
    "    if episode >= DECAY-1:\n",
    "        return max(MIN_EXPLORE_RATE, min(1, 1.0 - math.log10((episode+1)/DECAY)))\n",
    "    else:\n",
    "        return 1.0\n",
    "\n",
    "def get_learning_rate(episode):\n",
    "    if episode >= DECAY-1:\n",
    "         return max(MIN_LEARNING_RATE, min(0.5, 1.0 - math.log10((episode+1)/DECAY)))\n",
    "    else:\n",
    "         return 1.0"
   ]
  },
  {
   "cell_type": "markdown",
   "metadata": {},
   "source": [
    "# 4. Bucketing function\n",
    "This function receives a continuous state as an input and then returns a discrete state as an output."
   ]
  },
  {
   "cell_type": "code",
   "execution_count": 4,
   "metadata": {},
   "outputs": [],
   "source": [
    "def state_to_bucket(state):\n",
    "    bucket_indice = []\n",
    "    for i in range(len(state)):\n",
    "        max_bucket = NUM_BUCKETS[i] - 1\n",
    "        minimum = STATE_BOUNDS[i][0]\n",
    "        maximum = STATE_BOUNDS[i][1]\n",
    "        state_value = state[i]\n",
    "        if state_value <= minimum:\n",
    "            bucket_index = 0\n",
    "        elif state_value >= maximum:\n",
    "            bucket_index = max_bucket\n",
    "        else:\n",
    "            # Mapping the state bounds to the bucket array. bucket_index*(min-max normalized state)\n",
    "            bound_width = maximum - minimum\n",
    "            bucket_index = int(round(max_bucket*(state_value - minimum)/bound_width))\n",
    "        bucket_indice.append(bucket_index)\n",
    "    return tuple(bucket_indice)"
   ]
  },
  {
   "cell_type": "markdown",
   "metadata": {},
   "source": [
    "# 5. The Simulation code.\n",
    "The simulate() function runs the cartpole environment, recieve state and reward, take action, then repeats\n",
    "\n",
    "\n"
   ]
  },
  {
   "cell_type": "code",
   "execution_count": 7,
   "metadata": {},
   "outputs": [],
   "source": [
    "def simulate():\n",
    "    ## Instantiating the learning related parameters\n",
    "    learning_rate = get_learning_rate(0)\n",
    "    explore_rate = get_explore_rate(0)\n",
    "    discount_factor = 0.99  # since the world is unchanging\n",
    "    rewards = list()\n",
    "    num_streaks = 0\n",
    "    global q_table\n",
    "    for episode in range(NUM_EPISODES):\n",
    "\n",
    "        # Reset the environment\n",
    "        obv = env.reset()\n",
    "\n",
    "        # the initial state\n",
    "        state_0 = state_to_bucket(obv)\n",
    "\n",
    "        for t in range(MAX_TIMESTEP):\n",
    "            env.render(mode='ansi')\n",
    "\n",
    "            # Select an action\n",
    "            action = select_action(state_0, explore_rate)\n",
    "\n",
    "            # Execute the action then take the results.observation, reward, done, info\n",
    "            obv, reward, done, _ = env.step(action)\n",
    "\n",
    "            # Observe the result\n",
    "            state = state_to_bucket(obv)\n",
    "\n",
    "            \n",
    "            '''\n",
    "            ************************************\n",
    "            TODO: Update the q-table\n",
    "            ************************************\n",
    "            '''\n",
    "            old_value = q_table[state_0 + (action,)]\n",
    "            next_max = np.max(q_table[state])\n",
    "            \n",
    "            new_value = (1 - learning_rate) * old_value + learning_rate * (reward + discount_factor * next_max)\n",
    "            q_table[state_0 + (action,)] = new_value\n",
    "            \n",
    "            \n",
    "            \n",
    "            # Setting up for the next iteration\n",
    "            state_0 = state\n",
    "            \n",
    "            #done: the cart failed to maintain balance\n",
    "            if done:\n",
    "                break\n",
    "\n",
    "        X=np.arange(0,episode+1)\n",
    "        rewards.append(t)\n",
    "        Y=rewards\n",
    "        clear_output()\n",
    "        plt.plot(X,Y)\n",
    "        plt.xlabel('episodes')\n",
    "        plt.ylabel('reward')\n",
    "        plt.show()\n",
    "        print(\"Episode %d finished after %f time steps. Streak: %d\" % (episode, t, num_streaks))\n",
    "\n",
    "        #The episode is considered as a success if timestep >SOLVED_TIMESTEP \n",
    "        if (t >= SOLVED_TIMESTEP):\n",
    "            num_streaks += 1\n",
    "        else:\n",
    "            num_streaks = 0\n",
    "            \n",
    "        #  when the agent 'solves' the environment: steak over 120 times consecutively\n",
    "        if num_streaks > STREAK_TO_END:\n",
    "            print(\"The Environment is solved\")\n",
    "            break\n",
    "\n",
    "        # Update parameters\n",
    "        explore_rate = get_explore_rate(episode)\n",
    "        learning_rate = get_learning_rate(episode)\n",
    "    env.close()#closes window\n",
    "\n",
    "\n",
    "def select_action(state, explore_rate):\n",
    "    # Select a random action\n",
    "    if random.random() < explore_rate:\n",
    "        action = env.action_space.sample()\n",
    "    # Select the action with the highest q\n",
    "    else:\n",
    "        action = np.argmax(q_table[state])\n",
    "    return action\n"
   ]
  },
  {
   "cell_type": "code",
   "execution_count": 8,
   "metadata": {},
   "outputs": [
    {
     "data": {
      "image/png": "[encoded data removed]",
      "text/plain": [
       "<Figure size 432x288 with 1 Axes>"
      ]
     },
     "metadata": {
      "needs_background": "light"
     },
     "output_type": "display_data"
    },
    {
     "name": "stdout",
     "output_type": "stream",
     "text": [
      "Episode 354 finished after 249.000000 time steps. Streak: 120\n",
      "The Environment is solved\n"
     ]
    }
   ],
   "source": [
    "simulate()"
   ]
  },
  {
   "cell_type": "code",
   "execution_count": null,
   "metadata": {},
   "outputs": [],
   "source": []
  }
 ],
 "metadata": {
  "kernelspec": {
   "display_name": "Python 3 (ipykernel)",
   "language": "python",
   "name": "python3"
  },
  "language_info": {
   "codemirror_mode": {
    "name": "ipython",
    "version": 3
   },
   "file_extension": ".py",
   "mimetype": "text/x-python",
   "name": "python",
   "nbconvert_exporter": "python",
   "pygments_lexer": "ipython3",
   "version": "3.8.13"
  },
  "vscode": {
   "interpreter": {
    "hash": "49c3972abc1190618bfa8d678b1d8bc740caa92c9e239afc53edacbd460b1472"
   }
  }
 },
 "nbformat": 4,
 "nbformat_minor": 2
}
